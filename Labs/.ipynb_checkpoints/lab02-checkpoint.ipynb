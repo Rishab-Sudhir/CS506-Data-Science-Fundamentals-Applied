{
 "cells": [
  {
   "cell_type": "markdown",
   "metadata": {},
   "source": [
    "## Lab 02 - Pandas and Data Visualization\n",
    "This notebook will introduce you to the basics of Pandas and Data Visualization. You will learn how to load data into a Pandas DataFrame, how to perform basic data analysis, and how to visualize data. The first part of this notebook will be an interactive tutorial, and the second part will be practice exercises for you to do!"
   ]
  },
  {
   "cell_type": "markdown",
   "metadata": {},
   "source": [
    "#### Pandas\n",
    "Pandas is a popular open-source Python library that provides data structures and data analysis tools for working with structured data. Pandas is a versatile library that simplifies data manipulation, analysis, and exploration in Python. Some of its uses:\n",
    "* Tabular Data Handling\n",
    "* Data Cleaning and Transformation\n",
    "* Data Exploration\n",
    "* Data Import/Export\n",
    "* Data Visualization\n",
    "\n",
    "#### Matplotlib\n",
    "Matplotlib is a widely used for creating static, animated, and interactive visualizations. Whether you are conducting data analysis, scientific research, or data communication, Matplotlib helps you present your findings effectively and intuitively."
   ]
  },
  {
   "cell_type": "markdown",
   "metadata": {},
   "source": [
    "### Pre-requisites"
   ]
  },
  {
   "cell_type": "code",
   "execution_count": 2,
   "metadata": {},
   "outputs": [
    {
     "name": "stdout",
     "output_type": "stream",
     "text": [
      "Requirement already satisfied: pandas in /Users/rsudhir/anaconda3/lib/python3.11/site-packages (1.5.3)\n",
      "Requirement already satisfied: python-dateutil>=2.8.1 in /Users/rsudhir/anaconda3/lib/python3.11/site-packages (from pandas) (2.8.2)\n",
      "Requirement already satisfied: pytz>=2020.1 in /Users/rsudhir/anaconda3/lib/python3.11/site-packages (from pandas) (2022.7)\n",
      "Requirement already satisfied: numpy>=1.21.0 in /Users/rsudhir/anaconda3/lib/python3.11/site-packages (from pandas) (1.24.3)\n",
      "Requirement already satisfied: six>=1.5 in /Users/rsudhir/anaconda3/lib/python3.11/site-packages (from python-dateutil>=2.8.1->pandas) (1.16.0)\n",
      "Note: you may need to restart the kernel to use updated packages.\n"
     ]
    }
   ],
   "source": [
    "# In case you don't have pandas, uncomment\n",
    "# the following lines and run the cell\n",
    "\n",
    "%pip install pandas"
   ]
  },
  {
   "cell_type": "markdown",
   "metadata": {},
   "source": [
    "### Overview\n",
    "In this notebook, you will be learning how to use the Pandas library by working with the `cookies.csv` file. \n",
    "\n",
    "#### `cookies.csv` file :\n",
    "\n",
    "The `cookies.csv` file contains information about cookies that were made in Rico's Bisquito's factory. \n",
    "\n",
    "The columns are the following:\n",
    "\n",
    "`cookie`: the name of a cookie\n",
    "`ingredients`: a list of the cookie's ingredients\n",
    "`calories`: the number of calories the created cookie has\n",
    "`radius`: the radius of the created cookie, in cm\n",
    "`cost_to_make`: the cost it took to make the created cookie, in dollars"
   ]
  },
  {
   "cell_type": "markdown",
   "metadata": {},
   "source": [
    "### Reading the CSV file\n",
    "\n",
    "First, we need to import the Pandas library. We will be using the `pd` alias for the Pandas library."
   ]
  },
  {
   "cell_type": "code",
   "execution_count": 5,
   "metadata": {},
   "outputs": [],
   "source": [
    "#TODO: import pandas and matplotlib in this cell\n",
    "import pandas as pd\n",
    "import matplotlib.pyplot as plt"
   ]
  },
  {
   "cell_type": "markdown",
   "metadata": {},
   "source": [
    "We will now look at the `cookies.csv` file. We will use the `pd.read_csv()` function to read in the CSV file. We will store the data in a variable called `cookies`."
   ]
  },
  {
   "cell_type": "code",
   "execution_count": 8,
   "metadata": {},
   "outputs": [],
   "source": [
    "#TODO: read the cookies.csv file into a pandas dataframe\n",
    "cookies = pd.read_csv(\"cookies.csv\")"
   ]
  },
  {
   "cell_type": "markdown",
   "metadata": {},
   "source": [
    "#### Dataframe\n",
    "Dataframes are a data structure that Pandas uses to store data. Dataframes are similar to tables in a database. Dataframes have rows and columns. Each row represents a single data point, and each column represents a feature of the data point."
   ]
  },
  {
   "cell_type": "markdown",
   "metadata": {},
   "source": [
    "We will then make sure we imported the data correctly by printing out the first 10 rows of the data, using the `head()` function."
   ]
  },
  {
   "cell_type": "code",
   "execution_count": 13,
   "metadata": {},
   "outputs": [
    {
     "data": {
      "text/html": [
       "<div>\n",
       "<style scoped>\n",
       "    .dataframe tbody tr th:only-of-type {\n",
       "        vertical-align: middle;\n",
       "    }\n",
       "\n",
       "    .dataframe tbody tr th {\n",
       "        vertical-align: top;\n",
       "    }\n",
       "\n",
       "    .dataframe thead th {\n",
       "        text-align: right;\n",
       "    }\n",
       "</style>\n",
       "<table border=\"1\" class=\"dataframe\">\n",
       "  <thead>\n",
       "    <tr style=\"text-align: right;\">\n",
       "      <th></th>\n",
       "      <th>cookie</th>\n",
       "      <th>ingredients</th>\n",
       "      <th>calories</th>\n",
       "      <th>radius</th>\n",
       "      <th>cost_to_make</th>\n",
       "    </tr>\n",
       "  </thead>\n",
       "  <tbody>\n",
       "    <tr>\n",
       "      <th>0</th>\n",
       "      <td>laddoo lemon</td>\n",
       "      <td>[\"flour\",\"lemon juice\",\"sugar\",\"ghee\"]</td>\n",
       "      <td>170</td>\n",
       "      <td>3.102</td>\n",
       "      <td>0.67</td>\n",
       "    </tr>\n",
       "    <tr>\n",
       "      <th>1</th>\n",
       "      <td>nevadito</td>\n",
       "      <td>[\"flour\",\"chocolate chips\",\"milk\",\"vanilla ext...</td>\n",
       "      <td>224</td>\n",
       "      <td>4.069</td>\n",
       "      <td>1.04</td>\n",
       "    </tr>\n",
       "    <tr>\n",
       "      <th>2</th>\n",
       "      <td>red velvet rauw</td>\n",
       "      <td>[\"flour\",\"cocoa powder\",\"butter\",\"red food col...</td>\n",
       "      <td>198</td>\n",
       "      <td>3.780</td>\n",
       "      <td>1.07</td>\n",
       "    </tr>\n",
       "    <tr>\n",
       "      <th>3</th>\n",
       "      <td>bad berry bunny</td>\n",
       "      <td>[\"flour\",\"blueberries\",\"sugar\",\"butter\"]</td>\n",
       "      <td>191</td>\n",
       "      <td>4.148</td>\n",
       "      <td>1.39</td>\n",
       "    </tr>\n",
       "    <tr>\n",
       "      <th>4</th>\n",
       "      <td>orange ozuna</td>\n",
       "      <td>[\"flour\",\"orange juice\",\"sugar\",\"vegetable oil\"]</td>\n",
       "      <td>162</td>\n",
       "      <td>3.241</td>\n",
       "      <td>1.15</td>\n",
       "    </tr>\n",
       "    <tr>\n",
       "      <th>5</th>\n",
       "      <td>minty miami</td>\n",
       "      <td>[\"flour\",\"mint extract\",\"sugar\",\"butter\"]</td>\n",
       "      <td>204</td>\n",
       "      <td>3.964</td>\n",
       "      <td>0.84</td>\n",
       "    </tr>\n",
       "    <tr>\n",
       "      <th>6</th>\n",
       "      <td>chocolate</td>\n",
       "      <td>[\"flour\",\"chocolate chips\",\"sugar\",\"butter\"]</td>\n",
       "      <td>243</td>\n",
       "      <td>3.684</td>\n",
       "      <td>1.17</td>\n",
       "    </tr>\n",
       "    <tr>\n",
       "      <th>7</th>\n",
       "      <td>laddoo lemon</td>\n",
       "      <td>[\"flour\",\"lemon juice\",\"sugar\",\"ghee\"]</td>\n",
       "      <td>178</td>\n",
       "      <td>3.989</td>\n",
       "      <td>NaN</td>\n",
       "    </tr>\n",
       "    <tr>\n",
       "      <th>8</th>\n",
       "      <td>nevadito</td>\n",
       "      <td>[\"flour\",\"chocolate chips\",\"milk\",\"vanilla ext...</td>\n",
       "      <td>216</td>\n",
       "      <td>3.848</td>\n",
       "      <td>1.28</td>\n",
       "    </tr>\n",
       "    <tr>\n",
       "      <th>9</th>\n",
       "      <td>red velvet rauw</td>\n",
       "      <td>[\"flour\",\"cocoa powder\",\"butter\",\"red food col...</td>\n",
       "      <td>211</td>\n",
       "      <td>3.940</td>\n",
       "      <td>0.76</td>\n",
       "    </tr>\n",
       "  </tbody>\n",
       "</table>\n",
       "</div>"
      ],
      "text/plain": [
       "            cookie                                        ingredients  \\\n",
       "0     laddoo lemon             [\"flour\",\"lemon juice\",\"sugar\",\"ghee\"]   \n",
       "1         nevadito  [\"flour\",\"chocolate chips\",\"milk\",\"vanilla ext...   \n",
       "2  red velvet rauw  [\"flour\",\"cocoa powder\",\"butter\",\"red food col...   \n",
       "3  bad berry bunny           [\"flour\",\"blueberries\",\"sugar\",\"butter\"]   \n",
       "4     orange ozuna   [\"flour\",\"orange juice\",\"sugar\",\"vegetable oil\"]   \n",
       "5      minty miami          [\"flour\",\"mint extract\",\"sugar\",\"butter\"]   \n",
       "6        chocolate       [\"flour\",\"chocolate chips\",\"sugar\",\"butter\"]   \n",
       "7     laddoo lemon             [\"flour\",\"lemon juice\",\"sugar\",\"ghee\"]   \n",
       "8         nevadito  [\"flour\",\"chocolate chips\",\"milk\",\"vanilla ext...   \n",
       "9  red velvet rauw  [\"flour\",\"cocoa powder\",\"butter\",\"red food col...   \n",
       "\n",
       "   calories  radius  cost_to_make  \n",
       "0       170   3.102          0.67  \n",
       "1       224   4.069          1.04  \n",
       "2       198   3.780          1.07  \n",
       "3       191   4.148          1.39  \n",
       "4       162   3.241          1.15  \n",
       "5       204   3.964          0.84  \n",
       "6       243   3.684          1.17  \n",
       "7       178   3.989           NaN  \n",
       "8       216   3.848          1.28  \n",
       "9       211   3.940          0.76  "
      ]
     },
     "execution_count": 13,
     "metadata": {},
     "output_type": "execute_result"
    }
   ],
   "source": [
    "#TODO: print the head of the dataframe (prints the first n rows)\n",
    "cookies.head(10)"
   ]
  },
  {
   "cell_type": "markdown",
   "metadata": {},
   "source": [
    "### Checking data types\n",
    "You can check the data types of each column using the `dtypes` attribute of the DataFrame."
   ]
  },
  {
   "cell_type": "code",
   "execution_count": 14,
   "metadata": {},
   "outputs": [
    {
     "name": "stdout",
     "output_type": "stream",
     "text": [
      "cookie           object\n",
      "ingredients      object\n",
      "calories          int64\n",
      "radius          float64\n",
      "cost_to_make    float64\n",
      "dtype: object\n"
     ]
    }
   ],
   "source": [
    "#TODO: check the data types of the columns\n",
    "print(cookies.dtypes)\n"
   ]
  },
  {
   "cell_type": "markdown",
   "metadata": {},
   "source": [
    "Now, lets use use `info()` function to get more information about the Dataframe"
   ]
  },
  {
   "cell_type": "code",
   "execution_count": 15,
   "metadata": {},
   "outputs": [
    {
     "name": "stdout",
     "output_type": "stream",
     "text": [
      "<class 'pandas.core.frame.DataFrame'>\n",
      "RangeIndex: 118 entries, 0 to 117\n",
      "Data columns (total 5 columns):\n",
      " #   Column        Non-Null Count  Dtype  \n",
      "---  ------        --------------  -----  \n",
      " 0   cookie        118 non-null    object \n",
      " 1   ingredients   118 non-null    object \n",
      " 2   calories      118 non-null    int64  \n",
      " 3   radius        118 non-null    float64\n",
      " 4   cost_to_make  103 non-null    float64\n",
      "dtypes: float64(2), int64(1), object(2)\n",
      "memory usage: 4.7+ KB\n"
     ]
    }
   ],
   "source": [
    "# TODO: use info() to get information about datatypes and null values\n",
    "cookies.info()\n"
   ]
  },
  {
   "cell_type": "markdown",
   "metadata": {},
   "source": [
    "### Cleaning the data\n",
    "Now that we have the data, we need to clean it. For example, some `cost_to_make` fields of some created cookies are missing. To resolve this, we can do many things: we can replace the missing data with the mean of the column, or we can get rid of the row entirely if the `cost_to_make` field is not set. "
   ]
  },
  {
   "cell_type": "code",
   "execution_count": 19,
   "metadata": {},
   "outputs": [
    {
     "data": {
      "text/html": [
       "<div>\n",
       "<style scoped>\n",
       "    .dataframe tbody tr th:only-of-type {\n",
       "        vertical-align: middle;\n",
       "    }\n",
       "\n",
       "    .dataframe tbody tr th {\n",
       "        vertical-align: top;\n",
       "    }\n",
       "\n",
       "    .dataframe thead th {\n",
       "        text-align: right;\n",
       "    }\n",
       "</style>\n",
       "<table border=\"1\" class=\"dataframe\">\n",
       "  <thead>\n",
       "    <tr style=\"text-align: right;\">\n",
       "      <th></th>\n",
       "      <th>cookie</th>\n",
       "      <th>ingredients</th>\n",
       "      <th>calories</th>\n",
       "      <th>radius</th>\n",
       "      <th>cost_to_make</th>\n",
       "    </tr>\n",
       "  </thead>\n",
       "  <tbody>\n",
       "    <tr>\n",
       "      <th>0</th>\n",
       "      <td>laddoo lemon</td>\n",
       "      <td>[\"flour\",\"lemon juice\",\"sugar\",\"ghee\"]</td>\n",
       "      <td>170</td>\n",
       "      <td>3.102</td>\n",
       "      <td>0.670000</td>\n",
       "    </tr>\n",
       "    <tr>\n",
       "      <th>1</th>\n",
       "      <td>nevadito</td>\n",
       "      <td>[\"flour\",\"chocolate chips\",\"milk\",\"vanilla ext...</td>\n",
       "      <td>224</td>\n",
       "      <td>4.069</td>\n",
       "      <td>1.040000</td>\n",
       "    </tr>\n",
       "    <tr>\n",
       "      <th>2</th>\n",
       "      <td>red velvet rauw</td>\n",
       "      <td>[\"flour\",\"cocoa powder\",\"butter\",\"red food col...</td>\n",
       "      <td>198</td>\n",
       "      <td>3.780</td>\n",
       "      <td>1.070000</td>\n",
       "    </tr>\n",
       "    <tr>\n",
       "      <th>3</th>\n",
       "      <td>bad berry bunny</td>\n",
       "      <td>[\"flour\",\"blueberries\",\"sugar\",\"butter\"]</td>\n",
       "      <td>191</td>\n",
       "      <td>4.148</td>\n",
       "      <td>1.390000</td>\n",
       "    </tr>\n",
       "    <tr>\n",
       "      <th>4</th>\n",
       "      <td>orange ozuna</td>\n",
       "      <td>[\"flour\",\"orange juice\",\"sugar\",\"vegetable oil\"]</td>\n",
       "      <td>162</td>\n",
       "      <td>3.241</td>\n",
       "      <td>1.150000</td>\n",
       "    </tr>\n",
       "    <tr>\n",
       "      <th>5</th>\n",
       "      <td>minty miami</td>\n",
       "      <td>[\"flour\",\"mint extract\",\"sugar\",\"butter\"]</td>\n",
       "      <td>204</td>\n",
       "      <td>3.964</td>\n",
       "      <td>0.840000</td>\n",
       "    </tr>\n",
       "    <tr>\n",
       "      <th>6</th>\n",
       "      <td>chocolate</td>\n",
       "      <td>[\"flour\",\"chocolate chips\",\"sugar\",\"butter\"]</td>\n",
       "      <td>243</td>\n",
       "      <td>3.684</td>\n",
       "      <td>1.170000</td>\n",
       "    </tr>\n",
       "    <tr>\n",
       "      <th>7</th>\n",
       "      <td>laddoo lemon</td>\n",
       "      <td>[\"flour\",\"lemon juice\",\"sugar\",\"ghee\"]</td>\n",
       "      <td>178</td>\n",
       "      <td>3.989</td>\n",
       "      <td>1.191068</td>\n",
       "    </tr>\n",
       "    <tr>\n",
       "      <th>8</th>\n",
       "      <td>nevadito</td>\n",
       "      <td>[\"flour\",\"chocolate chips\",\"milk\",\"vanilla ext...</td>\n",
       "      <td>216</td>\n",
       "      <td>3.848</td>\n",
       "      <td>1.280000</td>\n",
       "    </tr>\n",
       "    <tr>\n",
       "      <th>9</th>\n",
       "      <td>red velvet rauw</td>\n",
       "      <td>[\"flour\",\"cocoa powder\",\"butter\",\"red food col...</td>\n",
       "      <td>211</td>\n",
       "      <td>3.940</td>\n",
       "      <td>0.760000</td>\n",
       "    </tr>\n",
       "  </tbody>\n",
       "</table>\n",
       "</div>"
      ],
      "text/plain": [
       "            cookie                                        ingredients  \\\n",
       "0     laddoo lemon             [\"flour\",\"lemon juice\",\"sugar\",\"ghee\"]   \n",
       "1         nevadito  [\"flour\",\"chocolate chips\",\"milk\",\"vanilla ext...   \n",
       "2  red velvet rauw  [\"flour\",\"cocoa powder\",\"butter\",\"red food col...   \n",
       "3  bad berry bunny           [\"flour\",\"blueberries\",\"sugar\",\"butter\"]   \n",
       "4     orange ozuna   [\"flour\",\"orange juice\",\"sugar\",\"vegetable oil\"]   \n",
       "5      minty miami          [\"flour\",\"mint extract\",\"sugar\",\"butter\"]   \n",
       "6        chocolate       [\"flour\",\"chocolate chips\",\"sugar\",\"butter\"]   \n",
       "7     laddoo lemon             [\"flour\",\"lemon juice\",\"sugar\",\"ghee\"]   \n",
       "8         nevadito  [\"flour\",\"chocolate chips\",\"milk\",\"vanilla ext...   \n",
       "9  red velvet rauw  [\"flour\",\"cocoa powder\",\"butter\",\"red food col...   \n",
       "\n",
       "   calories  radius  cost_to_make  \n",
       "0       170   3.102      0.670000  \n",
       "1       224   4.069      1.040000  \n",
       "2       198   3.780      1.070000  \n",
       "3       191   4.148      1.390000  \n",
       "4       162   3.241      1.150000  \n",
       "5       204   3.964      0.840000  \n",
       "6       243   3.684      1.170000  \n",
       "7       178   3.989      1.191068  \n",
       "8       216   3.848      1.280000  \n",
       "9       211   3.940      0.760000  "
      ]
     },
     "execution_count": 19,
     "metadata": {},
     "output_type": "execute_result"
    }
   ],
   "source": [
    "#TODO: clean the dataframe and \n",
    "# print the head again to make sure \n",
    "# the changes took effect\n",
    "\n",
    "# Fill in the missing values with the mean\n",
    "cookies[\"cost_to_make\"].fillna(cookies[\"cost_to_make\"].mean(), inplace=True)\n",
    "cookies.head(10)"
   ]
  },
  {
   "cell_type": "markdown",
   "metadata": {},
   "source": [
    "To also make sure we removed null values, we can check the number of null values in each column using the `isnull()` function."
   ]
  },
  {
   "cell_type": "code",
   "execution_count": 20,
   "metadata": {},
   "outputs": [
    {
     "name": "stdout",
     "output_type": "stream",
     "text": [
      "cookie          0\n",
      "ingredients     0\n",
      "calories        0\n",
      "radius          0\n",
      "cost_to_make    0\n",
      "dtype: int64\n"
     ]
    }
   ],
   "source": [
    "#TODO: use the isnull method to make sure your data is clean\n",
    "\n",
    "# Check the number of null values\n",
    "print(cookies.isnull().sum())\n"
   ]
  },
  {
   "cell_type": "markdown",
   "metadata": {},
   "source": [
    "Next, lets check for duplicate rows using the `duplicated()` function. Then, remove those rows using `drop_duplicates()` function."
   ]
  },
  {
   "cell_type": "code",
   "execution_count": 24,
   "metadata": {},
   "outputs": [
    {
     "name": "stdout",
     "output_type": "stream",
     "text": [
      "0      False\n",
      "1      False\n",
      "2      False\n",
      "3      False\n",
      "4      False\n",
      "       ...  \n",
      "113    False\n",
      "114    False\n",
      "115    False\n",
      "116    False\n",
      "117    False\n",
      "Length: 118, dtype: bool\n"
     ]
    }
   ],
   "source": [
    "# TODO: check for duplicate rows\n",
    "# then delete those rows form df\n",
    "\n",
    "print(cookies.duplicated())\n",
    "#cookies.drop_duplicates()"
   ]
  },
  {
   "cell_type": "markdown",
   "metadata": {},
   "source": [
    "### Parsing the data\n",
    "Now that we have the data, we could parse it to get the information we want. For example, we can check what types of cookies were made by using the `unique()` function on the `cookie` column."
   ]
  },
  {
   "cell_type": "code",
   "execution_count": 26,
   "metadata": {},
   "outputs": [
    {
     "name": "stdout",
     "output_type": "stream",
     "text": [
      "[170 224 198 191 162 204 243 178 216 211 183 159 175 209 167 236 202 184\n",
      " 156 205 176 219 187 193 182 206 203 213 174 240 195 220 229 165 208 186\n",
      " 189 199 158 168 164 214 196 173 161 172 166 194 197 253 185 249 230 180\n",
      " 179 181 222 171 226 177 153 227]\n"
     ]
    }
   ],
   "source": [
    "#TODO: see what cookies are in the dataset\n",
    "print(cookies[\"calories\"].unique())\n"
   ]
  },
  {
   "cell_type": "markdown",
   "metadata": {},
   "source": [
    "We can also check the number of cookies made by using the `value_counts()` function on the `cookie` column."
   ]
  },
  {
   "cell_type": "code",
   "execution_count": 30,
   "metadata": {},
   "outputs": [
    {
     "name": "stdout",
     "output_type": "stream",
     "text": [
      "red velvet rauw    18\n",
      "laddoo lemon       17\n",
      "nevadito           17\n",
      "bad berry bunny    17\n",
      "orange ozuna       17\n",
      "minty miami        17\n",
      "chocolate          15\n",
      "Name: cookie, dtype: int64\n"
     ]
    }
   ],
   "source": [
    "#TODO: use value_counts() to see how many \n",
    "# cookies of each type there are\n",
    "print(cookies[\"cookie\"].value_counts())"
   ]
  },
  {
   "cell_type": "markdown",
   "metadata": {},
   "source": [
    "Or maybe we don't like how long the names of the cookies are, so we can shorten them by using the `replace()` function on the `cookie` column.\n",
    "\n",
    "For example, let's try changing `\"bad berry bunny\"` to `\"bbb\"`."
   ]
  },
  {
   "cell_type": "code",
   "execution_count": 38,
   "metadata": {},
   "outputs": [
    {
     "name": "stdout",
     "output_type": "stream",
     "text": [
      "            cookie                                        ingredients  \\\n",
      "0     laddoo lemon             [\"flour\",\"lemon juice\",\"sugar\",\"ghee\"]   \n",
      "1         nevadito  [\"flour\",\"chocolate chips\",\"milk\",\"vanilla ext...   \n",
      "2  red velvet rauw  [\"flour\",\"cocoa powder\",\"butter\",\"red food col...   \n",
      "3              bbb           [\"flour\",\"blueberries\",\"sugar\",\"butter\"]   \n",
      "4     orange ozuna   [\"flour\",\"orange juice\",\"sugar\",\"vegetable oil\"]   \n",
      "5      minty miami          [\"flour\",\"mint extract\",\"sugar\",\"butter\"]   \n",
      "6        chocolate       [\"flour\",\"chocolate chips\",\"sugar\",\"butter\"]   \n",
      "7     laddoo lemon             [\"flour\",\"lemon juice\",\"sugar\",\"ghee\"]   \n",
      "8         nevadito  [\"flour\",\"chocolate chips\",\"milk\",\"vanilla ext...   \n",
      "9  red velvet rauw  [\"flour\",\"cocoa powder\",\"butter\",\"red food col...   \n",
      "\n",
      "   calories  radius  cost_to_make  \n",
      "0       170   3.102      0.670000  \n",
      "1       224   4.069      1.040000  \n",
      "2       198   3.780      1.070000  \n",
      "3       191   4.148      1.390000  \n",
      "4       162   3.241      1.150000  \n",
      "5       204   3.964      0.840000  \n",
      "6       243   3.684      1.170000  \n",
      "7       178   3.989      1.191068  \n",
      "8       216   3.848      1.280000  \n",
      "9       211   3.940      0.760000  \n"
     ]
    }
   ],
   "source": [
    "#TODO: change bad berry bunny data elements to \"bbb\"\n",
    "cookies[\"cookie\"] = cookies[\"cookie\"].replace(\"bad berry bunny\", \"bbb\")\n",
    "print(cookies.head(10))"
   ]
  },
  {
   "cell_type": "markdown",
   "metadata": {},
   "source": [
    "We may even like the original names better, but we may want to get rid of the spaces. For example, we can change `\"orange ozuna\"` to `\"orange_ozuna\"`. Here, we will use the `str.replace()` function."
   ]
  },
  {
   "cell_type": "code",
   "execution_count": 42,
   "metadata": {},
   "outputs": [
    {
     "data": {
      "text/html": [
       "<div>\n",
       "<style scoped>\n",
       "    .dataframe tbody tr th:only-of-type {\n",
       "        vertical-align: middle;\n",
       "    }\n",
       "\n",
       "    .dataframe tbody tr th {\n",
       "        vertical-align: top;\n",
       "    }\n",
       "\n",
       "    .dataframe thead th {\n",
       "        text-align: right;\n",
       "    }\n",
       "</style>\n",
       "<table border=\"1\" class=\"dataframe\">\n",
       "  <thead>\n",
       "    <tr style=\"text-align: right;\">\n",
       "      <th></th>\n",
       "      <th>cookie</th>\n",
       "      <th>ingredients</th>\n",
       "      <th>calories</th>\n",
       "      <th>radius</th>\n",
       "      <th>cost_to_make</th>\n",
       "    </tr>\n",
       "  </thead>\n",
       "  <tbody>\n",
       "    <tr>\n",
       "      <th>0</th>\n",
       "      <td>laddoo lemon</td>\n",
       "      <td>[\"flour\",\"lemon juice\",\"sugar\",\"ghee\"]</td>\n",
       "      <td>170</td>\n",
       "      <td>3.102</td>\n",
       "      <td>0.67</td>\n",
       "    </tr>\n",
       "    <tr>\n",
       "      <th>1</th>\n",
       "      <td>nevadito</td>\n",
       "      <td>[\"flour\",\"chocolate chips\",\"milk\",\"vanilla ext...</td>\n",
       "      <td>224</td>\n",
       "      <td>4.069</td>\n",
       "      <td>1.04</td>\n",
       "    </tr>\n",
       "    <tr>\n",
       "      <th>2</th>\n",
       "      <td>red velvet rauw</td>\n",
       "      <td>[\"flour\",\"cocoa powder\",\"butter\",\"red food col...</td>\n",
       "      <td>198</td>\n",
       "      <td>3.780</td>\n",
       "      <td>1.07</td>\n",
       "    </tr>\n",
       "    <tr>\n",
       "      <th>3</th>\n",
       "      <td>bad berry bunny</td>\n",
       "      <td>[\"flour\",\"blueberries\",\"sugar\",\"butter\"]</td>\n",
       "      <td>191</td>\n",
       "      <td>4.148</td>\n",
       "      <td>1.39</td>\n",
       "    </tr>\n",
       "    <tr>\n",
       "      <th>4</th>\n",
       "      <td>orange_ozuna</td>\n",
       "      <td>[\"flour\",\"orange juice\",\"sugar\",\"vegetable oil\"]</td>\n",
       "      <td>162</td>\n",
       "      <td>3.241</td>\n",
       "      <td>1.15</td>\n",
       "    </tr>\n",
       "    <tr>\n",
       "      <th>5</th>\n",
       "      <td>minty miami</td>\n",
       "      <td>[\"flour\",\"mint extract\",\"sugar\",\"butter\"]</td>\n",
       "      <td>204</td>\n",
       "      <td>3.964</td>\n",
       "      <td>0.84</td>\n",
       "    </tr>\n",
       "    <tr>\n",
       "      <th>6</th>\n",
       "      <td>chocolate</td>\n",
       "      <td>[\"flour\",\"chocolate chips\",\"sugar\",\"butter\"]</td>\n",
       "      <td>243</td>\n",
       "      <td>3.684</td>\n",
       "      <td>1.17</td>\n",
       "    </tr>\n",
       "    <tr>\n",
       "      <th>7</th>\n",
       "      <td>laddoo lemon</td>\n",
       "      <td>[\"flour\",\"lemon juice\",\"sugar\",\"ghee\"]</td>\n",
       "      <td>178</td>\n",
       "      <td>3.989</td>\n",
       "      <td>NaN</td>\n",
       "    </tr>\n",
       "    <tr>\n",
       "      <th>8</th>\n",
       "      <td>nevadito</td>\n",
       "      <td>[\"flour\",\"chocolate chips\",\"milk\",\"vanilla ext...</td>\n",
       "      <td>216</td>\n",
       "      <td>3.848</td>\n",
       "      <td>1.28</td>\n",
       "    </tr>\n",
       "    <tr>\n",
       "      <th>9</th>\n",
       "      <td>red velvet rauw</td>\n",
       "      <td>[\"flour\",\"cocoa powder\",\"butter\",\"red food col...</td>\n",
       "      <td>211</td>\n",
       "      <td>3.940</td>\n",
       "      <td>0.76</td>\n",
       "    </tr>\n",
       "  </tbody>\n",
       "</table>\n",
       "</div>"
      ],
      "text/plain": [
       "            cookie                                        ingredients  \\\n",
       "0     laddoo lemon             [\"flour\",\"lemon juice\",\"sugar\",\"ghee\"]   \n",
       "1         nevadito  [\"flour\",\"chocolate chips\",\"milk\",\"vanilla ext...   \n",
       "2  red velvet rauw  [\"flour\",\"cocoa powder\",\"butter\",\"red food col...   \n",
       "3  bad berry bunny           [\"flour\",\"blueberries\",\"sugar\",\"butter\"]   \n",
       "4     orange_ozuna   [\"flour\",\"orange juice\",\"sugar\",\"vegetable oil\"]   \n",
       "5      minty miami          [\"flour\",\"mint extract\",\"sugar\",\"butter\"]   \n",
       "6        chocolate       [\"flour\",\"chocolate chips\",\"sugar\",\"butter\"]   \n",
       "7     laddoo lemon             [\"flour\",\"lemon juice\",\"sugar\",\"ghee\"]   \n",
       "8         nevadito  [\"flour\",\"chocolate chips\",\"milk\",\"vanilla ext...   \n",
       "9  red velvet rauw  [\"flour\",\"cocoa powder\",\"butter\",\"red food col...   \n",
       "\n",
       "   calories  radius  cost_to_make  \n",
       "0       170   3.102          0.67  \n",
       "1       224   4.069          1.04  \n",
       "2       198   3.780          1.07  \n",
       "3       191   4.148          1.39  \n",
       "4       162   3.241          1.15  \n",
       "5       204   3.964          0.84  \n",
       "6       243   3.684          1.17  \n",
       "7       178   3.989           NaN  \n",
       "8       216   3.848          1.28  \n",
       "9       211   3.940          0.76  "
      ]
     },
     "execution_count": 42,
     "metadata": {},
     "output_type": "execute_result"
    }
   ],
   "source": [
    "#TODO: adjust orange ozuna as described\n",
    "df['cookie'] = df['cookie'].str.replace('orange ozuna', 'orange_ozuna')\n",
    "df.head(10)"
   ]
  },
  {
   "cell_type": "markdown",
   "metadata": {},
   "source": [
    "We may even just want to keep the first word of the cookie name. For example, we can change `\"orange_ozuna\"` to `\"orange\"`."
   ]
  },
  {
   "cell_type": "code",
   "execution_count": 58,
   "metadata": {},
   "outputs": [
    {
     "data": {
      "text/html": [
       "<div>\n",
       "<style scoped>\n",
       "    .dataframe tbody tr th:only-of-type {\n",
       "        vertical-align: middle;\n",
       "    }\n",
       "\n",
       "    .dataframe tbody tr th {\n",
       "        vertical-align: top;\n",
       "    }\n",
       "\n",
       "    .dataframe thead th {\n",
       "        text-align: right;\n",
       "    }\n",
       "</style>\n",
       "<table border=\"1\" class=\"dataframe\">\n",
       "  <thead>\n",
       "    <tr style=\"text-align: right;\">\n",
       "      <th></th>\n",
       "      <th>cookie</th>\n",
       "      <th>ingredients</th>\n",
       "      <th>calories</th>\n",
       "      <th>radius</th>\n",
       "      <th>cost_to_make</th>\n",
       "    </tr>\n",
       "  </thead>\n",
       "  <tbody>\n",
       "    <tr>\n",
       "      <th>0</th>\n",
       "      <td>laddoo lemon</td>\n",
       "      <td>[\"flour\",\"lemon juice\",\"sugar\",\"ghee\"]</td>\n",
       "      <td>170</td>\n",
       "      <td>3.102</td>\n",
       "      <td>4.17</td>\n",
       "    </tr>\n",
       "    <tr>\n",
       "      <th>1</th>\n",
       "      <td>nevadito</td>\n",
       "      <td>[\"flour\",\"chocolate chips\",\"milk\",\"vanilla ext...</td>\n",
       "      <td>224</td>\n",
       "      <td>4.069</td>\n",
       "      <td>4.54</td>\n",
       "    </tr>\n",
       "    <tr>\n",
       "      <th>2</th>\n",
       "      <td>red velvet rauw</td>\n",
       "      <td>[\"flour\",\"cocoa powder\",\"butter\",\"red food col...</td>\n",
       "      <td>198</td>\n",
       "      <td>3.780</td>\n",
       "      <td>4.57</td>\n",
       "    </tr>\n",
       "    <tr>\n",
       "      <th>3</th>\n",
       "      <td>bad berry bunny</td>\n",
       "      <td>[\"flour\",\"blueberries\",\"sugar\",\"butter\"]</td>\n",
       "      <td>191</td>\n",
       "      <td>4.148</td>\n",
       "      <td>4.89</td>\n",
       "    </tr>\n",
       "    <tr>\n",
       "      <th>4</th>\n",
       "      <td>orange_ozuna</td>\n",
       "      <td>[\"flour\",\"orange juice\",\"sugar\",\"vegetable oil\"]</td>\n",
       "      <td>162</td>\n",
       "      <td>3.241</td>\n",
       "      <td>4.65</td>\n",
       "    </tr>\n",
       "    <tr>\n",
       "      <th>5</th>\n",
       "      <td>minty miami</td>\n",
       "      <td>[\"flour\",\"mint extract\",\"sugar\",\"butter\"]</td>\n",
       "      <td>204</td>\n",
       "      <td>3.964</td>\n",
       "      <td>4.34</td>\n",
       "    </tr>\n",
       "    <tr>\n",
       "      <th>6</th>\n",
       "      <td>chocolate</td>\n",
       "      <td>[\"flour\",\"chocolate chips\",\"sugar\",\"butter\"]</td>\n",
       "      <td>243</td>\n",
       "      <td>3.684</td>\n",
       "      <td>4.67</td>\n",
       "    </tr>\n",
       "    <tr>\n",
       "      <th>7</th>\n",
       "      <td>laddoo lemon</td>\n",
       "      <td>[\"flour\",\"lemon juice\",\"sugar\",\"ghee\"]</td>\n",
       "      <td>178</td>\n",
       "      <td>3.989</td>\n",
       "      <td>NaN</td>\n",
       "    </tr>\n",
       "    <tr>\n",
       "      <th>8</th>\n",
       "      <td>nevadito</td>\n",
       "      <td>[\"flour\",\"chocolate chips\",\"milk\",\"vanilla ext...</td>\n",
       "      <td>216</td>\n",
       "      <td>3.848</td>\n",
       "      <td>4.78</td>\n",
       "    </tr>\n",
       "    <tr>\n",
       "      <th>9</th>\n",
       "      <td>red velvet rauw</td>\n",
       "      <td>[\"flour\",\"cocoa powder\",\"butter\",\"red food col...</td>\n",
       "      <td>211</td>\n",
       "      <td>3.940</td>\n",
       "      <td>4.26</td>\n",
       "    </tr>\n",
       "  </tbody>\n",
       "</table>\n",
       "</div>"
      ],
      "text/plain": [
       "            cookie                                        ingredients  \\\n",
       "0     laddoo lemon             [\"flour\",\"lemon juice\",\"sugar\",\"ghee\"]   \n",
       "1         nevadito  [\"flour\",\"chocolate chips\",\"milk\",\"vanilla ext...   \n",
       "2  red velvet rauw  [\"flour\",\"cocoa powder\",\"butter\",\"red food col...   \n",
       "3  bad berry bunny           [\"flour\",\"blueberries\",\"sugar\",\"butter\"]   \n",
       "4     orange_ozuna   [\"flour\",\"orange juice\",\"sugar\",\"vegetable oil\"]   \n",
       "5      minty miami          [\"flour\",\"mint extract\",\"sugar\",\"butter\"]   \n",
       "6        chocolate       [\"flour\",\"chocolate chips\",\"sugar\",\"butter\"]   \n",
       "7     laddoo lemon             [\"flour\",\"lemon juice\",\"sugar\",\"ghee\"]   \n",
       "8         nevadito  [\"flour\",\"chocolate chips\",\"milk\",\"vanilla ext...   \n",
       "9  red velvet rauw  [\"flour\",\"cocoa powder\",\"butter\",\"red food col...   \n",
       "\n",
       "   calories  radius  cost_to_make  \n",
       "0       170   3.102          4.17  \n",
       "1       224   4.069          4.54  \n",
       "2       198   3.780          4.57  \n",
       "3       191   4.148          4.89  \n",
       "4       162   3.241          4.65  \n",
       "5       204   3.964          4.34  \n",
       "6       243   3.684          4.67  \n",
       "7       178   3.989           NaN  \n",
       "8       216   3.848          4.78  \n",
       "9       211   3.940          4.26  "
      ]
     },
     "execution_count": 58,
     "metadata": {},
     "output_type": "execute_result"
    }
   ],
   "source": [
    "#TODO: adjust all cookies so only the first word\n",
    "# is used as the cookie name\n",
    "df['cookie'] = df['cookie'].str.replace('orange ozuna', 'orange')\n",
    "df.head(10)"
   ]
  },
  {
   "cell_type": "markdown",
   "metadata": {},
   "source": [
    "Another thing that may come to mind is that maybe getting flour could cost more money due to inflation, so we have to adjust our `cost_to_make` values. We can do this by using the `apply()` function on the `cost_to_make` column."
   ]
  },
  {
   "cell_type": "code",
   "execution_count": 57,
   "metadata": {},
   "outputs": [
    {
     "name": "stdout",
     "output_type": "stream",
     "text": [
      "            cookie                                        ingredients  \\\n",
      "0     laddoo lemon             [\"flour\",\"lemon juice\",\"sugar\",\"ghee\"]   \n",
      "1         nevadito  [\"flour\",\"chocolate chips\",\"milk\",\"vanilla ext...   \n",
      "2  red velvet rauw  [\"flour\",\"cocoa powder\",\"butter\",\"red food col...   \n",
      "3  bad berry bunny           [\"flour\",\"blueberries\",\"sugar\",\"butter\"]   \n",
      "4     orange_ozuna   [\"flour\",\"orange juice\",\"sugar\",\"vegetable oil\"]   \n",
      "5      minty miami          [\"flour\",\"mint extract\",\"sugar\",\"butter\"]   \n",
      "6        chocolate       [\"flour\",\"chocolate chips\",\"sugar\",\"butter\"]   \n",
      "7     laddoo lemon             [\"flour\",\"lemon juice\",\"sugar\",\"ghee\"]   \n",
      "8         nevadito  [\"flour\",\"chocolate chips\",\"milk\",\"vanilla ext...   \n",
      "9  red velvet rauw  [\"flour\",\"cocoa powder\",\"butter\",\"red food col...   \n",
      "\n",
      "   calories  radius  cost_to_make  \n",
      "0       170   3.102          4.17  \n",
      "1       224   4.069          4.54  \n",
      "2       198   3.780          4.57  \n",
      "3       191   4.148          4.89  \n",
      "4       162   3.241          4.65  \n",
      "5       204   3.964          4.34  \n",
      "6       243   3.684          4.67  \n",
      "7       178   3.989           NaN  \n",
      "8       216   3.848          4.78  \n",
      "9       211   3.940          4.26  \n"
     ]
    }
   ],
   "source": [
    "#Don't edit this method\n",
    "def adjust_cost(cost):\n",
    "    return cost + 0.5\n",
    "\n",
    "#TODO: use apply() to adjust the cost_to_make column.\n",
    "df['cost_to_make'] = df['cost_to_make'].apply(adjust_cost)\n",
    "print(df.head(10))"
   ]
  },
  {
   "cell_type": "markdown",
   "metadata": {},
   "source": [
    "And we can do a lot more things! We will see these concepts be used in the next homework assignment, along with a couple new ones to show you how powerful Pandas is."
   ]
  },
  {
   "cell_type": "markdown",
   "metadata": {},
   "source": [
    "### More complicated operations: Grouping, Filtering, Aggregating"
   ]
  },
  {
   "cell_type": "markdown",
   "metadata": {},
   "source": [
    "Before tryong out these complicated operations, lets first sort the sort the df by the radius of the cookies using the `sort_values()` function."
   ]
  },
  {
   "cell_type": "code",
   "execution_count": 162,
   "metadata": {},
   "outputs": [
    {
     "data": {
      "text/html": [
       "<div>\n",
       "<style scoped>\n",
       "    .dataframe tbody tr th:only-of-type {\n",
       "        vertical-align: middle;\n",
       "    }\n",
       "\n",
       "    .dataframe tbody tr th {\n",
       "        vertical-align: top;\n",
       "    }\n",
       "\n",
       "    .dataframe thead th {\n",
       "        text-align: right;\n",
       "    }\n",
       "</style>\n",
       "<table border=\"1\" class=\"dataframe\">\n",
       "  <thead>\n",
       "    <tr style=\"text-align: right;\">\n",
       "      <th></th>\n",
       "      <th>cookie</th>\n",
       "      <th>ingredients</th>\n",
       "      <th>calories</th>\n",
       "      <th>radius</th>\n",
       "      <th>cost_to_make</th>\n",
       "    </tr>\n",
       "  </thead>\n",
       "  <tbody>\n",
       "    <tr>\n",
       "      <th>85</th>\n",
       "      <td>minty miami</td>\n",
       "      <td>[\"flour\",\"mint extract\",\"sugar\",\"butter\"]</td>\n",
       "      <td>198</td>\n",
       "      <td>3.128</td>\n",
       "      <td>1.09</td>\n",
       "    </tr>\n",
       "    <tr>\n",
       "      <th>111</th>\n",
       "      <td>orange</td>\n",
       "      <td>[\"flour\",\"orange juice\",\"sugar\",\"vegetable oil\"]</td>\n",
       "      <td>153</td>\n",
       "      <td>3.794</td>\n",
       "      <td>1.10</td>\n",
       "    </tr>\n",
       "    <tr>\n",
       "      <th>41</th>\n",
       "      <td>laddoo lemon</td>\n",
       "      <td>[\"flour\",\"lemon juice\",\"sugar\",\"ghee\"]</td>\n",
       "      <td>195</td>\n",
       "      <td>4.562</td>\n",
       "      <td>1.12</td>\n",
       "    </tr>\n",
       "    <tr>\n",
       "      <th>60</th>\n",
       "      <td>minty miami</td>\n",
       "      <td>[\"flour\",\"mint extract\",\"sugar\",\"butter\"]</td>\n",
       "      <td>168</td>\n",
       "      <td>3.132</td>\n",
       "      <td>1.13</td>\n",
       "    </tr>\n",
       "    <tr>\n",
       "      <th>39</th>\n",
       "      <td>minty miami</td>\n",
       "      <td>[\"flour\",\"mint extract\",\"sugar\",\"butter\"]</td>\n",
       "      <td>174</td>\n",
       "      <td>4.388</td>\n",
       "      <td>1.14</td>\n",
       "    </tr>\n",
       "    <tr>\n",
       "      <th>91</th>\n",
       "      <td>orange</td>\n",
       "      <td>[\"flour\",\"orange juice\",\"sugar\",\"vegetable oil\"]</td>\n",
       "      <td>180</td>\n",
       "      <td>3.252</td>\n",
       "      <td>1.15</td>\n",
       "    </tr>\n",
       "    <tr>\n",
       "      <th>0</th>\n",
       "      <td>laddoo lemon</td>\n",
       "      <td>[\"flour\",\"lemon juice\",\"sugar\",\"ghee\"]</td>\n",
       "      <td>170</td>\n",
       "      <td>3.102</td>\n",
       "      <td>1.17</td>\n",
       "    </tr>\n",
       "    <tr>\n",
       "      <th>110</th>\n",
       "      <td>bbb</td>\n",
       "      <td>[\"flour\",\"blueberries\",\"sugar\",\"butter\"]</td>\n",
       "      <td>177</td>\n",
       "      <td>3.950</td>\n",
       "      <td>1.17</td>\n",
       "    </tr>\n",
       "    <tr>\n",
       "      <th>24</th>\n",
       "      <td>orange</td>\n",
       "      <td>[\"flour\",\"orange juice\",\"sugar\",\"vegetable oil\"]</td>\n",
       "      <td>198</td>\n",
       "      <td>3.448</td>\n",
       "      <td>1.18</td>\n",
       "    </tr>\n",
       "    <tr>\n",
       "      <th>27</th>\n",
       "      <td>laddoo lemon</td>\n",
       "      <td>[\"flour\",\"lemon juice\",\"sugar\",\"ghee\"]</td>\n",
       "      <td>187</td>\n",
       "      <td>3.257</td>\n",
       "      <td>1.19</td>\n",
       "    </tr>\n",
       "  </tbody>\n",
       "</table>\n",
       "</div>"
      ],
      "text/plain": [
       "           cookie                                       ingredients  calories  \\\n",
       "85    minty miami         [\"flour\",\"mint extract\",\"sugar\",\"butter\"]       198   \n",
       "111        orange  [\"flour\",\"orange juice\",\"sugar\",\"vegetable oil\"]       153   \n",
       "41   laddoo lemon            [\"flour\",\"lemon juice\",\"sugar\",\"ghee\"]       195   \n",
       "60    minty miami         [\"flour\",\"mint extract\",\"sugar\",\"butter\"]       168   \n",
       "39    minty miami         [\"flour\",\"mint extract\",\"sugar\",\"butter\"]       174   \n",
       "91         orange  [\"flour\",\"orange juice\",\"sugar\",\"vegetable oil\"]       180   \n",
       "0    laddoo lemon            [\"flour\",\"lemon juice\",\"sugar\",\"ghee\"]       170   \n",
       "110           bbb          [\"flour\",\"blueberries\",\"sugar\",\"butter\"]       177   \n",
       "24         orange  [\"flour\",\"orange juice\",\"sugar\",\"vegetable oil\"]       198   \n",
       "27   laddoo lemon            [\"flour\",\"lemon juice\",\"sugar\",\"ghee\"]       187   \n",
       "\n",
       "     radius  cost_to_make  \n",
       "85    3.128          1.09  \n",
       "111   3.794          1.10  \n",
       "41    4.562          1.12  \n",
       "60    3.132          1.13  \n",
       "39    4.388          1.14  \n",
       "91    3.252          1.15  \n",
       "0     3.102          1.17  \n",
       "110   3.950          1.17  \n",
       "24    3.448          1.18  \n",
       "27    3.257          1.19  "
      ]
     },
     "execution_count": 162,
     "metadata": {},
     "output_type": "execute_result"
    }
   ],
   "source": [
    "# TODO: sort the df using sort_values(by='Column', ascending=False)\n"
   ]
  },
  {
   "cell_type": "markdown",
   "metadata": {},
   "source": [
    "We may also want to group data by certain attributes. This can be done by using `groupby()`. This method takes in a column name, and groups the data by the values in that column. For example, we can group the data by the `cookie` column."
   ]
  },
  {
   "cell_type": "code",
   "execution_count": 163,
   "metadata": {},
   "outputs": [
    {
     "data": {
      "text/html": [
       "<div>\n",
       "<style scoped>\n",
       "    .dataframe tbody tr th:only-of-type {\n",
       "        vertical-align: middle;\n",
       "    }\n",
       "\n",
       "    .dataframe tbody tr th {\n",
       "        vertical-align: top;\n",
       "    }\n",
       "\n",
       "    .dataframe thead th {\n",
       "        text-align: right;\n",
       "    }\n",
       "</style>\n",
       "<table border=\"1\" class=\"dataframe\">\n",
       "  <thead>\n",
       "    <tr style=\"text-align: right;\">\n",
       "      <th></th>\n",
       "      <th>ingredients</th>\n",
       "      <th>calories</th>\n",
       "      <th>radius</th>\n",
       "      <th>cost_to_make</th>\n",
       "    </tr>\n",
       "    <tr>\n",
       "      <th>cookie</th>\n",
       "      <th></th>\n",
       "      <th></th>\n",
       "      <th></th>\n",
       "      <th></th>\n",
       "    </tr>\n",
       "  </thead>\n",
       "  <tbody>\n",
       "    <tr>\n",
       "      <th>bbb</th>\n",
       "      <td>[\"flour\",\"blueberries\",\"sugar\",\"butter\"]</td>\n",
       "      <td>177</td>\n",
       "      <td>3.950</td>\n",
       "      <td>1.17</td>\n",
       "    </tr>\n",
       "    <tr>\n",
       "      <th>chocolate</th>\n",
       "      <td>[\"flour\",\"chocolate chips\",\"sugar\",\"butter\"]</td>\n",
       "      <td>222</td>\n",
       "      <td>4.186</td>\n",
       "      <td>1.36</td>\n",
       "    </tr>\n",
       "    <tr>\n",
       "      <th>laddoo lemon</th>\n",
       "      <td>[\"flour\",\"lemon juice\",\"sugar\",\"ghee\"]</td>\n",
       "      <td>195</td>\n",
       "      <td>4.562</td>\n",
       "      <td>1.12</td>\n",
       "    </tr>\n",
       "    <tr>\n",
       "      <th>minty miami</th>\n",
       "      <td>[\"flour\",\"mint extract\",\"sugar\",\"butter\"]</td>\n",
       "      <td>198</td>\n",
       "      <td>3.128</td>\n",
       "      <td>1.09</td>\n",
       "    </tr>\n",
       "    <tr>\n",
       "      <th>nevadito</th>\n",
       "      <td>[\"flour\",\"chocolate chips\",\"milk\",\"vanilla ext...</td>\n",
       "      <td>205</td>\n",
       "      <td>3.776</td>\n",
       "      <td>1.46</td>\n",
       "    </tr>\n",
       "    <tr>\n",
       "      <th>orange</th>\n",
       "      <td>[\"flour\",\"orange juice\",\"sugar\",\"vegetable oil\"]</td>\n",
       "      <td>153</td>\n",
       "      <td>3.794</td>\n",
       "      <td>1.10</td>\n",
       "    </tr>\n",
       "    <tr>\n",
       "      <th>red velvet rauw</th>\n",
       "      <td>[\"flour\",\"cocoa powder\",\"butter\",\"red food col...</td>\n",
       "      <td>206</td>\n",
       "      <td>4.297</td>\n",
       "      <td>1.23</td>\n",
       "    </tr>\n",
       "  </tbody>\n",
       "</table>\n",
       "</div>"
      ],
      "text/plain": [
       "                                                       ingredients  calories  \\\n",
       "cookie                                                                         \n",
       "bbb                       [\"flour\",\"blueberries\",\"sugar\",\"butter\"]       177   \n",
       "chocolate             [\"flour\",\"chocolate chips\",\"sugar\",\"butter\"]       222   \n",
       "laddoo lemon                [\"flour\",\"lemon juice\",\"sugar\",\"ghee\"]       195   \n",
       "minty miami              [\"flour\",\"mint extract\",\"sugar\",\"butter\"]       198   \n",
       "nevadito         [\"flour\",\"chocolate chips\",\"milk\",\"vanilla ext...       205   \n",
       "orange            [\"flour\",\"orange juice\",\"sugar\",\"vegetable oil\"]       153   \n",
       "red velvet rauw  [\"flour\",\"cocoa powder\",\"butter\",\"red food col...       206   \n",
       "\n",
       "                 radius  cost_to_make  \n",
       "cookie                                 \n",
       "bbb               3.950          1.17  \n",
       "chocolate         4.186          1.36  \n",
       "laddoo lemon      4.562          1.12  \n",
       "minty miami       3.128          1.09  \n",
       "nevadito          3.776          1.46  \n",
       "orange            3.794          1.10  \n",
       "red velvet rauw   4.297          1.23  "
      ]
     },
     "execution_count": 163,
     "metadata": {},
     "output_type": "execute_result"
    }
   ],
   "source": [
    "#TODO: group by cookie type\n"
   ]
  },
  {
   "cell_type": "markdown",
   "metadata": {},
   "source": [
    "We can also group by multiple columns. For example, we can group the data by the `cookie` and `ingredients` columns."
   ]
  },
  {
   "cell_type": "code",
   "execution_count": 164,
   "metadata": {},
   "outputs": [
    {
     "data": {
      "text/html": [
       "<div>\n",
       "<style scoped>\n",
       "    .dataframe tbody tr th:only-of-type {\n",
       "        vertical-align: middle;\n",
       "    }\n",
       "\n",
       "    .dataframe tbody tr th {\n",
       "        vertical-align: top;\n",
       "    }\n",
       "\n",
       "    .dataframe thead th {\n",
       "        text-align: right;\n",
       "    }\n",
       "</style>\n",
       "<table border=\"1\" class=\"dataframe\">\n",
       "  <thead>\n",
       "    <tr style=\"text-align: right;\">\n",
       "      <th></th>\n",
       "      <th></th>\n",
       "      <th>ingredients</th>\n",
       "      <th>radius</th>\n",
       "      <th>cost_to_make</th>\n",
       "    </tr>\n",
       "    <tr>\n",
       "      <th>cookie</th>\n",
       "      <th>calories</th>\n",
       "      <th></th>\n",
       "      <th></th>\n",
       "      <th></th>\n",
       "    </tr>\n",
       "  </thead>\n",
       "  <tbody>\n",
       "    <tr>\n",
       "      <th rowspan=\"5\" valign=\"top\">bbb</th>\n",
       "      <th>171</th>\n",
       "      <td>[\"flour\",\"blueberries\",\"sugar\",\"butter\"]</td>\n",
       "      <td>4.045</td>\n",
       "      <td>1.430000</td>\n",
       "    </tr>\n",
       "    <tr>\n",
       "      <th>172</th>\n",
       "      <td>[\"flour\",\"blueberries\",\"sugar\",\"butter\"]</td>\n",
       "      <td>3.794</td>\n",
       "      <td>1.460000</td>\n",
       "    </tr>\n",
       "    <tr>\n",
       "      <th>173</th>\n",
       "      <td>[\"flour\",\"blueberries\",\"sugar\",\"butter\"]</td>\n",
       "      <td>3.911</td>\n",
       "      <td>1.691068</td>\n",
       "    </tr>\n",
       "    <tr>\n",
       "      <th>177</th>\n",
       "      <td>[\"flour\",\"blueberries\",\"sugar\",\"butter\"]</td>\n",
       "      <td>3.950</td>\n",
       "      <td>1.170000</td>\n",
       "    </tr>\n",
       "    <tr>\n",
       "      <th>178</th>\n",
       "      <td>[\"flour\",\"blueberries\",\"sugar\",\"butter\"]</td>\n",
       "      <td>3.853</td>\n",
       "      <td>1.691068</td>\n",
       "    </tr>\n",
       "    <tr>\n",
       "      <th>...</th>\n",
       "      <th>...</th>\n",
       "      <td>...</td>\n",
       "      <td>...</td>\n",
       "      <td>...</td>\n",
       "    </tr>\n",
       "    <tr>\n",
       "      <th rowspan=\"5\" valign=\"top\">red velvet rauw</th>\n",
       "      <th>202</th>\n",
       "      <td>[\"flour\",\"cocoa powder\",\"butter\",\"red food col...</td>\n",
       "      <td>4.289</td>\n",
       "      <td>1.730000</td>\n",
       "    </tr>\n",
       "    <tr>\n",
       "      <th>203</th>\n",
       "      <td>[\"flour\",\"cocoa powder\",\"butter\",\"red food col...</td>\n",
       "      <td>4.112</td>\n",
       "      <td>1.410000</td>\n",
       "    </tr>\n",
       "    <tr>\n",
       "      <th>204</th>\n",
       "      <td>[\"flour\",\"cocoa powder\",\"butter\",\"red food col...</td>\n",
       "      <td>4.667</td>\n",
       "      <td>1.900000</td>\n",
       "    </tr>\n",
       "    <tr>\n",
       "      <th>206</th>\n",
       "      <td>[\"flour\",\"cocoa powder\",\"butter\",\"red food col...</td>\n",
       "      <td>4.297</td>\n",
       "      <td>1.230000</td>\n",
       "    </tr>\n",
       "    <tr>\n",
       "      <th>211</th>\n",
       "      <td>[\"flour\",\"cocoa powder\",\"butter\",\"red food col...</td>\n",
       "      <td>3.940</td>\n",
       "      <td>1.260000</td>\n",
       "    </tr>\n",
       "  </tbody>\n",
       "</table>\n",
       "<p>90 rows × 3 columns</p>\n",
       "</div>"
      ],
      "text/plain": [
       "                                                                ingredients  \\\n",
       "cookie          calories                                                      \n",
       "bbb             171                [\"flour\",\"blueberries\",\"sugar\",\"butter\"]   \n",
       "                172                [\"flour\",\"blueberries\",\"sugar\",\"butter\"]   \n",
       "                173                [\"flour\",\"blueberries\",\"sugar\",\"butter\"]   \n",
       "                177                [\"flour\",\"blueberries\",\"sugar\",\"butter\"]   \n",
       "                178                [\"flour\",\"blueberries\",\"sugar\",\"butter\"]   \n",
       "...                                                                     ...   \n",
       "red velvet rauw 202       [\"flour\",\"cocoa powder\",\"butter\",\"red food col...   \n",
       "                203       [\"flour\",\"cocoa powder\",\"butter\",\"red food col...   \n",
       "                204       [\"flour\",\"cocoa powder\",\"butter\",\"red food col...   \n",
       "                206       [\"flour\",\"cocoa powder\",\"butter\",\"red food col...   \n",
       "                211       [\"flour\",\"cocoa powder\",\"butter\",\"red food col...   \n",
       "\n",
       "                          radius  cost_to_make  \n",
       "cookie          calories                        \n",
       "bbb             171        4.045      1.430000  \n",
       "                172        3.794      1.460000  \n",
       "                173        3.911      1.691068  \n",
       "                177        3.950      1.170000  \n",
       "                178        3.853      1.691068  \n",
       "...                          ...           ...  \n",
       "red velvet rauw 202        4.289      1.730000  \n",
       "                203        4.112      1.410000  \n",
       "                204        4.667      1.900000  \n",
       "                206        4.297      1.230000  \n",
       "                211        3.940      1.260000  \n",
       "\n",
       "[90 rows x 3 columns]"
      ]
     },
     "execution_count": 164,
     "metadata": {},
     "output_type": "execute_result"
    }
   ],
   "source": [
    "#TODO: group by cookie type and ingredients\n"
   ]
  },
  {
   "cell_type": "markdown",
   "metadata": {},
   "source": [
    "We may also want to filter the data. For example, we can filter the data to only show the cookies that have a radius greater than 4.3 cm. We can do this by indexing the DataFrame with a boolean expression."
   ]
  },
  {
   "cell_type": "code",
   "execution_count": 165,
   "metadata": {},
   "outputs": [
    {
     "data": {
      "text/html": [
       "<div>\n",
       "<style scoped>\n",
       "    .dataframe tbody tr th:only-of-type {\n",
       "        vertical-align: middle;\n",
       "    }\n",
       "\n",
       "    .dataframe tbody tr th {\n",
       "        vertical-align: top;\n",
       "    }\n",
       "\n",
       "    .dataframe thead th {\n",
       "        text-align: right;\n",
       "    }\n",
       "</style>\n",
       "<table border=\"1\" class=\"dataframe\">\n",
       "  <thead>\n",
       "    <tr style=\"text-align: right;\">\n",
       "      <th></th>\n",
       "      <th>cookie</th>\n",
       "      <th>ingredients</th>\n",
       "      <th>calories</th>\n",
       "      <th>radius</th>\n",
       "      <th>cost_to_make</th>\n",
       "    </tr>\n",
       "  </thead>\n",
       "  <tbody>\n",
       "    <tr>\n",
       "      <th>41</th>\n",
       "      <td>laddoo lemon</td>\n",
       "      <td>[\"flour\",\"lemon juice\",\"sugar\",\"ghee\"]</td>\n",
       "      <td>195</td>\n",
       "      <td>4.562</td>\n",
       "      <td>1.12</td>\n",
       "    </tr>\n",
       "    <tr>\n",
       "      <th>64</th>\n",
       "      <td>red velvet rauw</td>\n",
       "      <td>[\"flour\",\"cocoa powder\",\"butter\",\"red food col...</td>\n",
       "      <td>196</td>\n",
       "      <td>4.425</td>\n",
       "      <td>1.37</td>\n",
       "    </tr>\n",
       "    <tr>\n",
       "      <th>102</th>\n",
       "      <td>red velvet rauw</td>\n",
       "      <td>[\"flour\",\"cocoa powder\",\"butter\",\"red food col...</td>\n",
       "      <td>198</td>\n",
       "      <td>4.930</td>\n",
       "      <td>1.55</td>\n",
       "    </tr>\n",
       "    <tr>\n",
       "      <th>52</th>\n",
       "      <td>orange</td>\n",
       "      <td>[\"flour\",\"orange juice\",\"sugar\",\"vegetable oil\"]</td>\n",
       "      <td>186</td>\n",
       "      <td>4.573</td>\n",
       "      <td>1.56</td>\n",
       "    </tr>\n",
       "    <tr>\n",
       "      <th>79</th>\n",
       "      <td>chocolate</td>\n",
       "      <td>[\"flour\",\"chocolate chips\",\"sugar\",\"butter\"]</td>\n",
       "      <td>199</td>\n",
       "      <td>4.474</td>\n",
       "      <td>1.64</td>\n",
       "    </tr>\n",
       "  </tbody>\n",
       "</table>\n",
       "</div>"
      ],
      "text/plain": [
       "              cookie                                        ingredients  \\\n",
       "41      laddoo lemon             [\"flour\",\"lemon juice\",\"sugar\",\"ghee\"]   \n",
       "64   red velvet rauw  [\"flour\",\"cocoa powder\",\"butter\",\"red food col...   \n",
       "102  red velvet rauw  [\"flour\",\"cocoa powder\",\"butter\",\"red food col...   \n",
       "52            orange   [\"flour\",\"orange juice\",\"sugar\",\"vegetable oil\"]   \n",
       "79         chocolate       [\"flour\",\"chocolate chips\",\"sugar\",\"butter\"]   \n",
       "\n",
       "     calories  radius  cost_to_make  \n",
       "41        195   4.562          1.12  \n",
       "64        196   4.425          1.37  \n",
       "102       198   4.930          1.55  \n",
       "52        186   4.573          1.56  \n",
       "79        199   4.474          1.64  "
      ]
     },
     "execution_count": 165,
     "metadata": {},
     "output_type": "execute_result"
    }
   ],
   "source": [
    "#TODO: filter using the boolean expression\n"
   ]
  },
  {
   "cell_type": "markdown",
   "metadata": {},
   "source": [
    "We may even want to use `groupby()` and filter idea together! For example, we can filter the data to only show the cookies that have a radius greater than 4.3 cm, and group the data by the `cookie` column."
   ]
  },
  {
   "cell_type": "code",
   "execution_count": 166,
   "metadata": {},
   "outputs": [
    {
     "data": {
      "text/html": [
       "<div>\n",
       "<style scoped>\n",
       "    .dataframe tbody tr th:only-of-type {\n",
       "        vertical-align: middle;\n",
       "    }\n",
       "\n",
       "    .dataframe tbody tr th {\n",
       "        vertical-align: top;\n",
       "    }\n",
       "\n",
       "    .dataframe thead th {\n",
       "        text-align: right;\n",
       "    }\n",
       "</style>\n",
       "<table border=\"1\" class=\"dataframe\">\n",
       "  <thead>\n",
       "    <tr style=\"text-align: right;\">\n",
       "      <th></th>\n",
       "      <th>ingredients</th>\n",
       "      <th>calories</th>\n",
       "      <th>radius</th>\n",
       "      <th>cost_to_make</th>\n",
       "    </tr>\n",
       "    <tr>\n",
       "      <th>cookie</th>\n",
       "      <th></th>\n",
       "      <th></th>\n",
       "      <th></th>\n",
       "      <th></th>\n",
       "    </tr>\n",
       "  </thead>\n",
       "  <tbody>\n",
       "    <tr>\n",
       "      <th>chocolate</th>\n",
       "      <td>[\"flour\",\"chocolate chips\",\"sugar\",\"butter\"]</td>\n",
       "      <td>199</td>\n",
       "      <td>4.474</td>\n",
       "      <td>1.64</td>\n",
       "    </tr>\n",
       "    <tr>\n",
       "      <th>laddoo lemon</th>\n",
       "      <td>[\"flour\",\"lemon juice\",\"sugar\",\"ghee\"]</td>\n",
       "      <td>195</td>\n",
       "      <td>4.562</td>\n",
       "      <td>1.12</td>\n",
       "    </tr>\n",
       "    <tr>\n",
       "      <th>minty miami</th>\n",
       "      <td>[\"flour\",\"mint extract\",\"sugar\",\"butter\"]</td>\n",
       "      <td>174</td>\n",
       "      <td>4.388</td>\n",
       "      <td>1.14</td>\n",
       "    </tr>\n",
       "    <tr>\n",
       "      <th>nevadito</th>\n",
       "      <td>[\"flour\",\"chocolate chips\",\"milk\",\"vanilla ext...</td>\n",
       "      <td>219</td>\n",
       "      <td>4.346</td>\n",
       "      <td>1.68</td>\n",
       "    </tr>\n",
       "    <tr>\n",
       "      <th>orange</th>\n",
       "      <td>[\"flour\",\"orange juice\",\"sugar\",\"vegetable oil\"]</td>\n",
       "      <td>186</td>\n",
       "      <td>4.573</td>\n",
       "      <td>1.56</td>\n",
       "    </tr>\n",
       "    <tr>\n",
       "      <th>red velvet rauw</th>\n",
       "      <td>[\"flour\",\"cocoa powder\",\"butter\",\"red food col...</td>\n",
       "      <td>196</td>\n",
       "      <td>4.425</td>\n",
       "      <td>1.37</td>\n",
       "    </tr>\n",
       "  </tbody>\n",
       "</table>\n",
       "</div>"
      ],
      "text/plain": [
       "                                                       ingredients  calories  \\\n",
       "cookie                                                                         \n",
       "chocolate             [\"flour\",\"chocolate chips\",\"sugar\",\"butter\"]       199   \n",
       "laddoo lemon                [\"flour\",\"lemon juice\",\"sugar\",\"ghee\"]       195   \n",
       "minty miami              [\"flour\",\"mint extract\",\"sugar\",\"butter\"]       174   \n",
       "nevadito         [\"flour\",\"chocolate chips\",\"milk\",\"vanilla ext...       219   \n",
       "orange            [\"flour\",\"orange juice\",\"sugar\",\"vegetable oil\"]       186   \n",
       "red velvet rauw  [\"flour\",\"cocoa powder\",\"butter\",\"red food col...       196   \n",
       "\n",
       "                 radius  cost_to_make  \n",
       "cookie                                 \n",
       "chocolate         4.474          1.64  \n",
       "laddoo lemon      4.562          1.12  \n",
       "minty miami       4.388          1.14  \n",
       "nevadito          4.346          1.68  \n",
       "orange            4.573          1.56  \n",
       "red velvet rauw   4.425          1.37  "
      ]
     },
     "execution_count": 166,
     "metadata": {},
     "output_type": "execute_result"
    }
   ],
   "source": [
    "#TODO: filter the data using the boolean expression\n",
    "# then group by cookie column\n"
   ]
  },
  {
   "cell_type": "markdown",
   "metadata": {},
   "source": [
    "We may also want to aggregate the data. For example, we can aggregate the data by looking at the ratio of calories to radius. We can do this by using indexing and the `apply()` function."
   ]
  },
  {
   "cell_type": "code",
   "execution_count": 169,
   "metadata": {},
   "outputs": [
    {
     "data": {
      "text/html": [
       "<div>\n",
       "<style scoped>\n",
       "    .dataframe tbody tr th:only-of-type {\n",
       "        vertical-align: middle;\n",
       "    }\n",
       "\n",
       "    .dataframe tbody tr th {\n",
       "        vertical-align: top;\n",
       "    }\n",
       "\n",
       "    .dataframe thead th {\n",
       "        text-align: right;\n",
       "    }\n",
       "</style>\n",
       "<table border=\"1\" class=\"dataframe\">\n",
       "  <thead>\n",
       "    <tr style=\"text-align: right;\">\n",
       "      <th></th>\n",
       "      <th>cookie</th>\n",
       "      <th>ingredients</th>\n",
       "      <th>calories</th>\n",
       "      <th>radius</th>\n",
       "      <th>cost_to_make</th>\n",
       "      <th>calories_per_radius</th>\n",
       "    </tr>\n",
       "  </thead>\n",
       "  <tbody>\n",
       "    <tr>\n",
       "      <th>0</th>\n",
       "      <td>laddoo lemon</td>\n",
       "      <td>[\"flour\",\"lemon juice\",\"sugar\",\"ghee\"]</td>\n",
       "      <td>170</td>\n",
       "      <td>3.102</td>\n",
       "      <td>0.67</td>\n",
       "      <td>54.803353</td>\n",
       "    </tr>\n",
       "    <tr>\n",
       "      <th>1</th>\n",
       "      <td>nevadito</td>\n",
       "      <td>[\"flour\",\"chocolate chips\",\"milk\",\"vanilla ext...</td>\n",
       "      <td>224</td>\n",
       "      <td>4.069</td>\n",
       "      <td>1.04</td>\n",
       "      <td>55.050381</td>\n",
       "    </tr>\n",
       "    <tr>\n",
       "      <th>2</th>\n",
       "      <td>red velvet rauw</td>\n",
       "      <td>[\"flour\",\"cocoa powder\",\"butter\",\"red food col...</td>\n",
       "      <td>198</td>\n",
       "      <td>3.780</td>\n",
       "      <td>1.07</td>\n",
       "      <td>52.380952</td>\n",
       "    </tr>\n",
       "    <tr>\n",
       "      <th>3</th>\n",
       "      <td>bad berry bunny</td>\n",
       "      <td>[\"flour\",\"blueberries\",\"sugar\",\"butter\"]</td>\n",
       "      <td>191</td>\n",
       "      <td>4.148</td>\n",
       "      <td>1.39</td>\n",
       "      <td>46.046287</td>\n",
       "    </tr>\n",
       "    <tr>\n",
       "      <th>4</th>\n",
       "      <td>orange ozuna</td>\n",
       "      <td>[\"flour\",\"orange juice\",\"sugar\",\"vegetable oil\"]</td>\n",
       "      <td>162</td>\n",
       "      <td>3.241</td>\n",
       "      <td>1.15</td>\n",
       "      <td>49.984573</td>\n",
       "    </tr>\n",
       "    <tr>\n",
       "      <th>5</th>\n",
       "      <td>minty miami</td>\n",
       "      <td>[\"flour\",\"mint extract\",\"sugar\",\"butter\"]</td>\n",
       "      <td>204</td>\n",
       "      <td>3.964</td>\n",
       "      <td>0.84</td>\n",
       "      <td>51.463169</td>\n",
       "    </tr>\n",
       "    <tr>\n",
       "      <th>6</th>\n",
       "      <td>chocolate</td>\n",
       "      <td>[\"flour\",\"chocolate chips\",\"sugar\",\"butter\"]</td>\n",
       "      <td>243</td>\n",
       "      <td>3.684</td>\n",
       "      <td>1.17</td>\n",
       "      <td>65.960912</td>\n",
       "    </tr>\n",
       "    <tr>\n",
       "      <th>7</th>\n",
       "      <td>laddoo lemon</td>\n",
       "      <td>[\"flour\",\"lemon juice\",\"sugar\",\"ghee\"]</td>\n",
       "      <td>178</td>\n",
       "      <td>3.989</td>\n",
       "      <td>NaN</td>\n",
       "      <td>44.622712</td>\n",
       "    </tr>\n",
       "    <tr>\n",
       "      <th>8</th>\n",
       "      <td>nevadito</td>\n",
       "      <td>[\"flour\",\"chocolate chips\",\"milk\",\"vanilla ext...</td>\n",
       "      <td>216</td>\n",
       "      <td>3.848</td>\n",
       "      <td>1.28</td>\n",
       "      <td>56.133056</td>\n",
       "    </tr>\n",
       "    <tr>\n",
       "      <th>9</th>\n",
       "      <td>red velvet rauw</td>\n",
       "      <td>[\"flour\",\"cocoa powder\",\"butter\",\"red food col...</td>\n",
       "      <td>211</td>\n",
       "      <td>3.940</td>\n",
       "      <td>0.76</td>\n",
       "      <td>53.553299</td>\n",
       "    </tr>\n",
       "  </tbody>\n",
       "</table>\n",
       "</div>"
      ],
      "text/plain": [
       "            cookie                                        ingredients  \\\n",
       "0     laddoo lemon             [\"flour\",\"lemon juice\",\"sugar\",\"ghee\"]   \n",
       "1         nevadito  [\"flour\",\"chocolate chips\",\"milk\",\"vanilla ext...   \n",
       "2  red velvet rauw  [\"flour\",\"cocoa powder\",\"butter\",\"red food col...   \n",
       "3  bad berry bunny           [\"flour\",\"blueberries\",\"sugar\",\"butter\"]   \n",
       "4     orange ozuna   [\"flour\",\"orange juice\",\"sugar\",\"vegetable oil\"]   \n",
       "5      minty miami          [\"flour\",\"mint extract\",\"sugar\",\"butter\"]   \n",
       "6        chocolate       [\"flour\",\"chocolate chips\",\"sugar\",\"butter\"]   \n",
       "7     laddoo lemon             [\"flour\",\"lemon juice\",\"sugar\",\"ghee\"]   \n",
       "8         nevadito  [\"flour\",\"chocolate chips\",\"milk\",\"vanilla ext...   \n",
       "9  red velvet rauw  [\"flour\",\"cocoa powder\",\"butter\",\"red food col...   \n",
       "\n",
       "   calories  radius  cost_to_make  calories_per_radius  \n",
       "0       170   3.102          0.67            54.803353  \n",
       "1       224   4.069          1.04            55.050381  \n",
       "2       198   3.780          1.07            52.380952  \n",
       "3       191   4.148          1.39            46.046287  \n",
       "4       162   3.241          1.15            49.984573  \n",
       "5       204   3.964          0.84            51.463169  \n",
       "6       243   3.684          1.17            65.960912  \n",
       "7       178   3.989           NaN            44.622712  \n",
       "8       216   3.848          1.28            56.133056  \n",
       "9       211   3.940          0.76            53.553299  "
      ]
     },
     "execution_count": 169,
     "metadata": {},
     "output_type": "execute_result"
    }
   ],
   "source": [
    "#TODO: add a column to the dataframe that is the\n",
    "# calories per radius\n"
   ]
  },
  {
   "cell_type": "markdown",
   "metadata": {},
   "source": [
    "Or we can just get rid of this column if we find it useless. We can do this by using the `drop()` function or indexing."
   ]
  },
  {
   "cell_type": "code",
   "execution_count": 171,
   "metadata": {},
   "outputs": [
    {
     "data": {
      "text/html": [
       "<div>\n",
       "<style scoped>\n",
       "    .dataframe tbody tr th:only-of-type {\n",
       "        vertical-align: middle;\n",
       "    }\n",
       "\n",
       "    .dataframe tbody tr th {\n",
       "        vertical-align: top;\n",
       "    }\n",
       "\n",
       "    .dataframe thead th {\n",
       "        text-align: right;\n",
       "    }\n",
       "</style>\n",
       "<table border=\"1\" class=\"dataframe\">\n",
       "  <thead>\n",
       "    <tr style=\"text-align: right;\">\n",
       "      <th></th>\n",
       "      <th>cookie</th>\n",
       "      <th>ingredients</th>\n",
       "      <th>calories</th>\n",
       "      <th>radius</th>\n",
       "      <th>cost_to_make</th>\n",
       "    </tr>\n",
       "  </thead>\n",
       "  <tbody>\n",
       "    <tr>\n",
       "      <th>0</th>\n",
       "      <td>laddoo lemon</td>\n",
       "      <td>[\"flour\",\"lemon juice\",\"sugar\",\"ghee\"]</td>\n",
       "      <td>170</td>\n",
       "      <td>3.102</td>\n",
       "      <td>0.67</td>\n",
       "    </tr>\n",
       "    <tr>\n",
       "      <th>1</th>\n",
       "      <td>nevadito</td>\n",
       "      <td>[\"flour\",\"chocolate chips\",\"milk\",\"vanilla ext...</td>\n",
       "      <td>224</td>\n",
       "      <td>4.069</td>\n",
       "      <td>1.04</td>\n",
       "    </tr>\n",
       "    <tr>\n",
       "      <th>2</th>\n",
       "      <td>red velvet rauw</td>\n",
       "      <td>[\"flour\",\"cocoa powder\",\"butter\",\"red food col...</td>\n",
       "      <td>198</td>\n",
       "      <td>3.780</td>\n",
       "      <td>1.07</td>\n",
       "    </tr>\n",
       "    <tr>\n",
       "      <th>3</th>\n",
       "      <td>bad berry bunny</td>\n",
       "      <td>[\"flour\",\"blueberries\",\"sugar\",\"butter\"]</td>\n",
       "      <td>191</td>\n",
       "      <td>4.148</td>\n",
       "      <td>1.39</td>\n",
       "    </tr>\n",
       "    <tr>\n",
       "      <th>4</th>\n",
       "      <td>orange ozuna</td>\n",
       "      <td>[\"flour\",\"orange juice\",\"sugar\",\"vegetable oil\"]</td>\n",
       "      <td>162</td>\n",
       "      <td>3.241</td>\n",
       "      <td>1.15</td>\n",
       "    </tr>\n",
       "    <tr>\n",
       "      <th>5</th>\n",
       "      <td>minty miami</td>\n",
       "      <td>[\"flour\",\"mint extract\",\"sugar\",\"butter\"]</td>\n",
       "      <td>204</td>\n",
       "      <td>3.964</td>\n",
       "      <td>0.84</td>\n",
       "    </tr>\n",
       "    <tr>\n",
       "      <th>6</th>\n",
       "      <td>chocolate</td>\n",
       "      <td>[\"flour\",\"chocolate chips\",\"sugar\",\"butter\"]</td>\n",
       "      <td>243</td>\n",
       "      <td>3.684</td>\n",
       "      <td>1.17</td>\n",
       "    </tr>\n",
       "    <tr>\n",
       "      <th>7</th>\n",
       "      <td>laddoo lemon</td>\n",
       "      <td>[\"flour\",\"lemon juice\",\"sugar\",\"ghee\"]</td>\n",
       "      <td>178</td>\n",
       "      <td>3.989</td>\n",
       "      <td>NaN</td>\n",
       "    </tr>\n",
       "    <tr>\n",
       "      <th>8</th>\n",
       "      <td>nevadito</td>\n",
       "      <td>[\"flour\",\"chocolate chips\",\"milk\",\"vanilla ext...</td>\n",
       "      <td>216</td>\n",
       "      <td>3.848</td>\n",
       "      <td>1.28</td>\n",
       "    </tr>\n",
       "    <tr>\n",
       "      <th>9</th>\n",
       "      <td>red velvet rauw</td>\n",
       "      <td>[\"flour\",\"cocoa powder\",\"butter\",\"red food col...</td>\n",
       "      <td>211</td>\n",
       "      <td>3.940</td>\n",
       "      <td>0.76</td>\n",
       "    </tr>\n",
       "  </tbody>\n",
       "</table>\n",
       "</div>"
      ],
      "text/plain": [
       "            cookie                                        ingredients  \\\n",
       "0     laddoo lemon             [\"flour\",\"lemon juice\",\"sugar\",\"ghee\"]   \n",
       "1         nevadito  [\"flour\",\"chocolate chips\",\"milk\",\"vanilla ext...   \n",
       "2  red velvet rauw  [\"flour\",\"cocoa powder\",\"butter\",\"red food col...   \n",
       "3  bad berry bunny           [\"flour\",\"blueberries\",\"sugar\",\"butter\"]   \n",
       "4     orange ozuna   [\"flour\",\"orange juice\",\"sugar\",\"vegetable oil\"]   \n",
       "5      minty miami          [\"flour\",\"mint extract\",\"sugar\",\"butter\"]   \n",
       "6        chocolate       [\"flour\",\"chocolate chips\",\"sugar\",\"butter\"]   \n",
       "7     laddoo lemon             [\"flour\",\"lemon juice\",\"sugar\",\"ghee\"]   \n",
       "8         nevadito  [\"flour\",\"chocolate chips\",\"milk\",\"vanilla ext...   \n",
       "9  red velvet rauw  [\"flour\",\"cocoa powder\",\"butter\",\"red food col...   \n",
       "\n",
       "   calories  radius  cost_to_make  \n",
       "0       170   3.102          0.67  \n",
       "1       224   4.069          1.04  \n",
       "2       198   3.780          1.07  \n",
       "3       191   4.148          1.39  \n",
       "4       162   3.241          1.15  \n",
       "5       204   3.964          0.84  \n",
       "6       243   3.684          1.17  \n",
       "7       178   3.989           NaN  \n",
       "8       216   3.848          1.28  \n",
       "9       211   3.940          0.76  "
      ]
     },
     "execution_count": 171,
     "metadata": {},
     "output_type": "execute_result"
    }
   ],
   "source": [
    "#TODO: drop the created column\n",
    "cookies.drop()"
   ]
  },
  {
   "cell_type": "markdown",
   "metadata": {},
   "source": [
    "### Visualizing the data"
   ]
  },
  {
   "cell_type": "markdown",
   "metadata": {},
   "source": [
    "We can also visualize the data. For example, we can visualize the data by plotting the radius of the cookies against the cost to make the cookies. We can do this by using the `plot()` function."
   ]
  },
  {
   "cell_type": "code",
   "execution_count": 59,
   "metadata": {},
   "outputs": [
    {
     "data": {
      "image/png": "[encoded data removed]",
      "text/plain": [
       "<Figure size 700x500 with 1 Axes>"
      ]
     },
     "metadata": {},
     "output_type": "display_data"
    }
   ],
   "source": [
    "#TODO: plot the radius (x) versus cost to make (y) \n",
    "\n",
    "plt.figure(figsize=(7,5))\n",
    "plt.scatter(cookies[\"radius\"],cookies[\"cost_to_make\"])\n",
    "plt.xlabel(\"radius\")\n",
    "plt.ylabel(\"cost_to_make\")\n",
    "plt.title(\"radius vs cost to make\")\n",
    "plt.show()"
   ]
  },
  {
   "cell_type": "markdown",
   "metadata": {},
   "source": [
    "We may even want to get more specific and visualize the shape of a distribution of the `laddoo lemon`'s radius by making a boxplot. We can also do this by using the `plot()` function."
   ]
  },
  {
   "cell_type": "code",
   "execution_count": 62,
   "metadata": {},
   "outputs": [
    {
     "data": {
      "image/png": "[encoded data removed]",
      "text/plain": [
       "<Figure size 640x480 with 1 Axes>"
      ]
     },
     "metadata": {},
     "output_type": "display_data"
    }
   ],
   "source": [
    "#TODO: add the described boxplot\n",
    "laddoo_lemon = cookies[cookies['cookie'] == 'laddoo lemon']\n",
    "laddoo_lemon['radius'].plot(kind='box')\n",
    "plt.title(\"Boxplot of Laddoo Lemon Radius\")\n",
    "plt.show()"
   ]
  },
  {
   "cell_type": "markdown",
   "metadata": {},
   "source": [
    "Alternatively, we can create a histogram to visualize the distribution of the `laddoo lemon`'s radius. We can also do this by using the `plot()` function."
   ]
  },
  {
   "cell_type": "code",
   "execution_count": 64,
   "metadata": {},
   "outputs": [
    {
     "data": {
      "image/png": "[encoded data removed]",
      "text/plain": [
       "<Figure size 640x480 with 1 Axes>"
      ]
     },
     "metadata": {},
     "output_type": "display_data"
    }
   ],
   "source": [
    "#TODO: add the described histogram\n",
    "laddoo_lemon = cookies[cookies['cookie'] == 'laddoo lemon']\n",
    "laddoo_lemon['radius'].plot(kind='hist', bins = 35)\n",
    "plt.title(\"Histogram of Laddoo Lemon Radius\")\n",
    "plt.show()"
   ]
  },
  {
   "cell_type": "markdown",
   "metadata": {},
   "source": [
    "Things can get more complicated too. Maybe we want to analyze the behaviors of `bad berry bunny` and `laddoo lemon`'s radius using a boxplot. But this time, let's try it using the alternative `boxplot()` function. For practice, try doing it with `plot()` too!"
   ]
  },
  {
   "cell_type": "code",
   "execution_count": null,
   "metadata": {},
   "outputs": [],
   "source": [
    "#TODO: analyze the two cookie's radius in a boxplot\n",
    "selected_cookies = cookies[cookies['cookies'].isin(['bbb'],['laddoo lemon'])]\n",
    "selected_cookies.boxplot(column='')"
   ]
  },
  {
   "cell_type": "markdown",
   "metadata": {},
   "source": [
    "### Practice Problems\n",
    "Now that you have learned some of Pandas' capabilities, let's try some practice problems! **This is the part that will be checked when you submit it!**"
   ]
  },
  {
   "cell_type": "markdown",
   "metadata": {},
   "source": [
    "#### Problem 1\n",
    "How many cookies were made? (Hint: use the `shape` attribute)"
   ]
  },
  {
   "cell_type": "code",
   "execution_count": null,
   "metadata": {},
   "outputs": [],
   "source": [
    "#Add your code here"
   ]
  },
  {
   "cell_type": "markdown",
   "metadata": {},
   "source": [
    "#### Problem 2\n",
    "Add a column to the DataFrame that has the value `True` if the cookie has a radius greater than 4 cm, and `False` otherwise. (Hint: use the `apply()` function)"
   ]
  },
  {
   "cell_type": "code",
   "execution_count": null,
   "metadata": {},
   "outputs": [],
   "source": [
    "#Add your code here"
   ]
  },
  {
   "cell_type": "markdown",
   "metadata": {},
   "source": [
    "#### Problem 3\n",
    "\n",
    "Group the data by the `cookie` column, and find the average radius of each cookie. (Hint: use the `groupby()` and `transform()` function). Add this column to the DataFrame."
   ]
  },
  {
   "cell_type": "code",
   "execution_count": null,
   "metadata": {},
   "outputs": [],
   "source": [
    "#Add your code here"
   ]
  },
  {
   "cell_type": "markdown",
   "metadata": {},
   "source": [
    "#### Problem 4\n",
    "Create a new DataFrame that only contains the cookies that have the ingredient `\"chocolate chips\"`. (Hint: use the `str.contains()` function)"
   ]
  },
  {
   "cell_type": "code",
   "execution_count": null,
   "metadata": {},
   "outputs": [],
   "source": [
    "#Add your code here"
   ]
  },
  {
   "cell_type": "markdown",
   "metadata": {},
   "source": [
    "#### Problem 5\n",
    "\n",
    "Create a boxplot of `cost_to_make` for all cookies except `chocolate` using the `boxplot()` function."
   ]
  },
  {
   "cell_type": "code",
   "execution_count": null,
   "metadata": {},
   "outputs": [],
   "source": [
    "#Add your code here"
   ]
  },
  {
   "cell_type": "markdown",
   "metadata": {},
   "source": [
    "#### Problem 6\n",
    "\n",
    "Create a histogram of the `bad berry bunny`'s calories using the `plot()` function."
   ]
  },
  {
   "cell_type": "code",
   "execution_count": null,
   "metadata": {},
   "outputs": [],
   "source": [
    "#Add your code here"
   ]
  },
  {
   "cell_type": "markdown",
   "metadata": {},
   "source": [
    "#### Problem 7\n",
    "\n",
    "Calculate the average calories per cookie type and display the result in a bar chart."
   ]
  },
  {
   "cell_type": "code",
   "execution_count": null,
   "metadata": {},
   "outputs": [],
   "source": [
    "#Add your code here"
   ]
  },
  {
   "cell_type": "markdown",
   "metadata": {},
   "source": [
    "#### Problem 8\n",
    "\n",
    "Find the top 3 most expensive cookies in terms of cost_to_make"
   ]
  },
  {
   "cell_type": "code",
   "execution_count": null,
   "metadata": {},
   "outputs": [],
   "source": [
    "#Add your code here"
   ]
  }
 ],
 "metadata": {
  "kernelspec": {
   "display_name": "Python 3 (ipykernel)",
   "language": "python",
   "name": "python3"
  },
  "language_info": {
   "codemirror_mode": {
    "name": "ipython",
    "version": 3
   },
   "file_extension": ".py",
   "mimetype": "text/x-python",
   "name": "python",
   "nbconvert_exporter": "python",
   "pygments_lexer": "ipython3",
   "version": "3.11.4"
  },
  "vscode": {
   "interpreter": {
    "hash": "63639127d0784e8e4de1a76bcacd89583be09d9f82d600966cd9457d183cbbf7"
   }
  }
 },
 "nbformat": 4,
 "nbformat_minor": 2
}
