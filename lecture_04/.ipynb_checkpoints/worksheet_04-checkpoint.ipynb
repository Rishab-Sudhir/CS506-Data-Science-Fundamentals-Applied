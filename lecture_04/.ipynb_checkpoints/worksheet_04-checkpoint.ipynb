{
 "cells": [
  {
   "cell_type": "markdown",
   "metadata": {},
   "source": [
    "# Worksheet 04\n",
    "\n",
    "Name: Rishab Sudhir\n",
    "\n",
    "UID: U64819615\n",
    "\n",
    "### Topics\n",
    "\n",
    "- Distance & Similarity"
   ]
  },
  {
   "cell_type": "markdown",
   "metadata": {},
   "source": [
    "### Distance & Similarity\n",
    "\n",
    "#### Part 1\n",
    "\n",
    "a) In the minkowski distance, describe what the parameters p and d are."
   ]
  },
  {
   "cell_type": "markdown",
   "metadata": {},
   "source": [
    "Minkowski Distance - This distance metric is a generalization of the Euclidean and Manhattan distance metrics.\n",
    "\n",
    "p - hyperparameter (p >= 1)\n",
    "\n",
    "d - the dimensionality (dimensional space), fixed by the data you're working with\n",
    "\n",
    "when p = 2 -> euclidean distance\n",
    "\n",
    "when p = 1 -> manhattan distance\n"
   ]
  },
  {
   "cell_type": "markdown",
   "metadata": {},
   "source": [
    "b) In your own words describe the difference between the Euclidean distance and the Manhattan distance."
   ]
  },
  {
   "cell_type": "markdown",
   "metadata": {},
   "source": [
    "Euclidean distance is a straight line distance from point a to b. Manhattan distance is the x y distance to from point a to b (like a triangle)"
   ]
  },
  {
   "cell_type": "markdown",
   "metadata": {},
   "source": [
    "Consider A = (0, 0) and B = (1, 1). When:\n",
    "\n",
    "- p = 1, d(A, B) = 2\n",
    "- p = 2, d(A, B) = $\\sqrt{2} = 1.41$\n",
    "- p = 3, d(A, B) = $2^{1/3} = 1.26$\n",
    "- p = 4, d(A, B) = $2^{1/4} = 1.19$\n",
    "\n",
    "c) Describe what you think distance would look like when p is very large."
   ]
  },
  {
   "cell_type": "markdown",
   "metadata": {},
   "source": [
    "When p is very large, the Minkowski distance will approach the maximum of the absolute differences of their coordinates. In the example, the differences are 1 and 1 along both dimensions, so the Minkowski distance will converge to 1, which is the maximum difference along any single coordinate."
   ]
  },
  {
   "cell_type": "markdown",
   "metadata": {},
   "source": [
    "d) Is the minkowski distance still a distance function when p < 1? Expain why / why not."
   ]
  },
  {
   "cell_type": "markdown",
   "metadata": {},
   "source": [
    "When p is less than one then as p decreases the distance value increases. For values of p less than 1, the formula does not define a valid distance metric as the triangle inequality is not satisfied.\n",
    "\n",
    "\n",
    "Let 𝑥:=(0,0)\n",
    ", 𝑦:=(1,1)\n",
    ", 𝑧:=(0,1)\n",
    ".\n",
    "\n",
    "Then:\n",
    "\n",
    "𝑑(𝑥,𝑦)=2^{1/𝑝}, \n",
    "\n",
    "which when 𝑝<1 is more than 2.\n",
    "\n",
    "𝑑(𝑥,𝑧)=𝑑(𝑦,𝑧)=1.\n",
    "\n",
    "So 𝑑(𝑥,𝑦)>𝑑(𝑥,𝑧)+𝑑(𝑧,𝑦)."
   ]
  },
  {
   "cell_type": "markdown",
   "metadata": {},
   "source": [
    "e) when would you use cosine similarity over the euclidan distance?"
   ]
  },
  {
   "cell_type": "markdown",
   "metadata": {},
   "source": [
    "When direction matters more than magnitude. (if documents are of different sizes, direction gives us more information than magnitude)"
   ]
  },
  {
   "cell_type": "markdown",
   "metadata": {},
   "source": [
    "f) what does the jaccard distance account for that the manhattan distance doesn't?"
   ]
  },
  {
   "cell_type": "markdown",
   "metadata": {},
   "source": [
    "The size of the document"
   ]
  },
  {
   "cell_type": "markdown",
   "metadata": {},
   "source": [
    "#### Part 2\n",
    "\n",
    "Consider the following two sentences:"
   ]
  },
  {
   "cell_type": "code",
   "execution_count": 4,
   "metadata": {},
   "outputs": [],
   "source": [
    "s1 = \"hello my name is Alice\"  \n",
    "s2 = \"hello my name is Bob\""
   ]
  },
  {
   "cell_type": "markdown",
   "metadata": {},
   "source": [
    "using the union of words from both sentences, we can represent each sentence as a vector. Each element of the vector represents the presence or absence of the word at that index.\n",
    "\n",
    "In this example, the union of words is (\"hello\", \"my\", \"name\", \"is\", \"Alice\", \"Bob\") so we can represent the above sentences as such:"
   ]
  },
  {
   "cell_type": "code",
   "execution_count": 5,
   "metadata": {},
   "outputs": [],
   "source": [
    "v1 = [1,    1, 1,   1, 1,    0]\n",
    "#     hello my name is Alice\n",
    "v2 = [1,    1, 1,   1, 0, 1]\n",
    "#     hello my name is    Bob"
   ]
  },
  {
   "cell_type": "markdown",
   "metadata": {},
   "source": [
    "Programmatically, we can do the following:"
   ]
  },
  {
   "cell_type": "code",
   "execution_count": 6,
   "metadata": {},
   "outputs": [
    {
     "name": "stdout",
     "output_type": "stream",
     "text": [
      "['name', 'hello', 'Bob', 'Alice', 'is', 'my']\n",
      "[1, 1, 0, 1, 1, 1]\n"
     ]
    }
   ],
   "source": [
    "corpus = [s1, s2]\n",
    "all_words = list(set([item for x in corpus for item in x.split()]))\n",
    "print(all_words)\n",
    "v1 = [1 if x in s1 else 0 for x in all_words]\n",
    "print(v1)"
   ]
  },
  {
   "cell_type": "markdown",
   "metadata": {},
   "source": [
    "Let's add a new sentence to our corpus:"
   ]
  },
  {
   "cell_type": "code",
   "execution_count": 9,
   "metadata": {},
   "outputs": [
    {
     "name": "stdout",
     "output_type": "stream",
     "text": [
      "['name', 'hello', 'Bob', 'Alice', 'is', 'Claude', 'my', 'hi']\n",
      "[1, 1, 0, 1, 1, 0, 1, 0]\n",
      "[1, 1, 1, 0, 1, 0, 1, 0]\n",
      "[1, 0, 0, 0, 1, 1, 1, 1]\n"
     ]
    }
   ],
   "source": [
    "s3 = \"hi my name is Claude\"\n",
    "corpus.append(s3)\n",
    "all_words = list(set([item for x in corpus for item in x.split()]))\n",
    "print(all_words)\n",
    "v1 = [1 if x in s1 else 0 for x in all_words]\n",
    "print(v1)\n",
    "v2 = [1 if x in s2 else 0 for x in all_words]\n",
    "print(v2)\n",
    "v3 = [1 if x in s3 else 0 for x in all_words]\n",
    "print(v3)"
   ]
  },
  {
   "cell_type": "markdown",
   "metadata": {},
   "source": [
    "a) What is the new union of words used to represent s1, s2, and s3?"
   ]
  },
  {
   "cell_type": "code",
   "execution_count": null,
   "metadata": {},
   "outputs": [],
   "source": [
    "['name', 'hello', 'Bob', 'Alice', 'is', 'Claude', 'my', 'hi']"
   ]
  },
  {
   "cell_type": "markdown",
   "metadata": {},
   "source": [
    "b) Represent s1, s2, and s3 as vectors as above, using this new set of words."
   ]
  },
  {
   "cell_type": "code",
   "execution_count": null,
   "metadata": {},
   "outputs": [],
   "source": [
    "[1, 1, 0, 1, 1, 0, 1, 0]\n",
    "[1, 1, 1, 0, 1, 0, 1, 0]\n",
    "[1, 0, 0, 0, 1, 1, 1, 1]"
   ]
  },
  {
   "cell_type": "markdown",
   "metadata": {},
   "source": [
    "c) Write a function that computes the manhattan distance between two vectors. Which pair of vectors are the most similar under that distance function?"
   ]
  },
  {
   "cell_type": "code",
   "execution_count": 14,
   "metadata": {},
   "outputs": [
    {
     "name": "stdout",
     "output_type": "stream",
     "text": [
      "1.4142135623730951\n",
      "2.0\n"
     ]
    }
   ],
   "source": [
    "corpus = []\n",
    "all_words = list(set([item for x in corpus for item in x.split()]))\n",
    "print(all_words)\n",
    "v1 = [1 if x in s1 else 0 for x in all_words]\n",
    "print(v1)\n",
    "\n",
    "\n",
    "def minkowski(x, y, p):\n",
    "    if len(x) != len(y):\n",
    "        raise RuntimeError(\"x and y should be the same dim\")\n",
    "        \n",
    "    res = 0\n",
    "    for i in range(len(x)):\n",
    "        res += abs(x[i] - y[i]) ** p\n",
    "    return res ** (1/p)\n",
    "\n",
    "\n",
    "print( minkowski([0,0], [1,1], 2))\n",
    "# expect sq root 2\n",
    "print( minkowski([0,0], [1,1], 1))\n",
    "# expect 2\n",
    "        "
   ]
  },
  {
   "cell_type": "markdown",
   "metadata": {},
   "source": []
  },
  {
   "cell_type": "markdown",
   "metadata": {},
   "source": [
    "d) Create a matrix of all these vectors (row major) and add the following sentences in vector form:\n",
    "\n",
    "- \"hi Alice\"\n",
    "- \"hello Claude\"\n",
    "- \"Bob my name is Claude\"\n",
    "- \"hi Claude my name is Alice\"\n",
    "- \"hello Bob\""
   ]
  },
  {
   "cell_type": "code",
   "execution_count": 19,
   "metadata": {},
   "outputs": [],
   "source": [
    "mat = [\n",
    "        [\"hi\",\"Alice\"],\n",
    "        [\"hello\",\"Claude\"],\n",
    "        [\"Bob\",\"my\",\"name\", \"is\",\"Claude\"],\n",
    "        [\"hi\",\"Claude\",\"my\",\"name\",\"is\", \"Alice\"], \n",
    "        [\"hello\",\"Bob\"]\n",
    "      ]\n",
    "\n",
    "#class matrix:\n",
    "#    def __int__(self):\n",
    "#        self.matrix = [[item for _ in range(columns)] for _ in range(rows)\n",
    "    \n",
    "#    def insert:\n",
    "        \n",
    "#    def remove:\n"
   ]
  },
  {
   "cell_type": "markdown",
   "metadata": {},
   "source": [
    "e) How many rows and columns does this matrix have?"
   ]
  },
  {
   "cell_type": "code",
   "execution_count": 18,
   "metadata": {},
   "outputs": [],
   "source": [
    "rows = 5\n",
    "columns = 6"
   ]
  },
  {
   "cell_type": "markdown",
   "metadata": {},
   "source": [
    "f) When using the Manhattan distance, which two sentences are the most similar?"
   ]
  },
  {
   "cell_type": "code",
   "execution_count": 35,
   "metadata": {},
   "outputs": [
    {
     "name": "stdout",
     "output_type": "stream",
     "text": [
      "['name', 'hello', 'Bob', 'Alice', 'is', 'Claude', 'my', 'hi']\n",
      "the most similar sentances are ''hello Claude' and 'hello Bob' with a man dist of 2.0\n"
     ]
    }
   ],
   "source": [
    "s1 = \"hi Alice\"\n",
    "s2 = \"hello Claude\"\n",
    "s3 = \"Bob my name is Claude\"\n",
    "s4 = \"hi Claude my name is Alice\"\n",
    "s5 = \"hello Bob\"\n",
    "corpus = [\"hi Alice\",\"hello Claude\",\"Bob my name is Claude\",\"hi Claude my name is Alice\",\"hello Bob\"]\n",
    "all_words = list(set([item for x in corpus for item in x.split()]))\n",
    "print(all_words)\n",
    "v1 = [1 if x in s1 else 0 for x in all_words]\n",
    "v2 = [1 if x in s2 else 0 for x in all_words]\n",
    "v3 = [1 if x in s3 else 0 for x in all_words]\n",
    "v4 = [1 if x in s4 else 0 for x in all_words]\n",
    "v5 = [1 if x in s5 else 0 for x in all_words]\n",
    "\n",
    "mat = [v1,v2,v3,v4,v5]\n",
    "sim1 = mat[0]\n",
    "sim2 = mat[0]\n",
    "mandist = 100000\n",
    "for x in range(0, len(mat)):\n",
    "    for y in range(x+1,len(mat)):\n",
    "        dist = minkowski(mat[x], mat[y], 1)\n",
    "        if dist < mandist:\n",
    "            sim1 = corpus[x]\n",
    "            sim2 = corpus[y]\n",
    "            mandist = dist\n",
    "            \n",
    "print(\"the most similar sentances are ''\" + str(sim1) + \"' and '\" + str(sim2) + \"' with a man dist of \" + str(mandist))\n",
    "        \n",
    "\n",
    "    "
   ]
  },
  {
   "cell_type": "markdown",
   "metadata": {},
   "source": [
    "#### Part 3 Challenge"
   ]
  },
  {
   "cell_type": "markdown",
   "metadata": {},
   "source": [
    "Given a set of graphs $\\mathcal{G}$, each graph $G \\in \\mathcal{G}$ is defined over the same set of nodes $V$. The graphs are represented by their adjacency matrices, which are 2D arrays where each element indicates whether a pair of nodes is connected by an edge.\n",
    "\n",
    "Your task is to compute the pairwise distances between these graphs based on a specific distance metric. The distance $d(G, G')$ between two graphs $G = (V, E)$ and $G' = (V, E')$ is defined as the sum of the number of edges in $G$ but not in $G'$, and the number of edges in $G'$ but not in $G$. Mathematically, this can be expressed as:\n",
    "\n",
    "$$\n",
    "d(G, G') = |E \\setminus E'| + |E' \\setminus E|.\n",
    "$$\n",
    "\n",
    "##### Requirements:\n",
    "1. **Input**: Should take a list of 2D numpy arrays as input. Each array represents the adjacency matrix of a graph.\n",
    "\n",
    "2. **Output**: Should output a pairwise distance matrix. If there are $n$ graphs in the input list, the output should be an $n \\times n$ matrix where the entry at position $(i, j)$ represents the distance between the $i^{th}$ and $j^{th}$ graph."
   ]
  }
 ],
 "metadata": {
  "kernelspec": {
   "display_name": "Python 3 (ipykernel)",
   "language": "python",
   "name": "python3"
  },
  "language_info": {
   "codemirror_mode": {
    "name": "ipython",
    "version": 3
   },
   "file_extension": ".py",
   "mimetype": "text/x-python",
   "name": "python",
   "nbconvert_exporter": "python",
   "pygments_lexer": "ipython3",
   "version": "3.11.4"
  },
  "vscode": {
   "interpreter": {
    "hash": "76ca05dc3ea24b2e3b98cdb7774adfbb40773424bf5109b477fd793f623715af"
   }
  }
 },
 "nbformat": 4,
 "nbformat_minor": 2
}
