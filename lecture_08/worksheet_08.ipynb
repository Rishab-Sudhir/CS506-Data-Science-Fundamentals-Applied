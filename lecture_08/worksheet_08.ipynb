{
 "cells": [
  {
   "attachments": {},
   "cell_type": "markdown",
   "metadata": {},
   "source": [
    "# Worksheet 08\n",
    "\n",
    "Name:  Rishab Sudhir\n",
    "\n",
    "UID: U64819615\n",
    "\n",
    "### Topics\n",
    "\n",
    "- Soft Clustering\n",
    "- Clustering Aggregation\n",
    "\n",
    "### Probability Review\n",
    "\n",
    "Read through [the following](https://medium.com/@gallettilance/overview-of-probability-3272b72c82c8)\n",
    "\n",
    "### Soft Clustering\n",
    "\n",
    "We generate 10 data points that come from a normal distribution with mean 5 and variance 1."
   ]
  },
  {
   "cell_type": "code",
   "execution_count": 1,
   "metadata": {},
   "outputs": [
    {
     "name": "stdout",
     "output_type": "stream",
     "text": [
      "[4.571039268782286, 6.67399196263077, 5.14999345864837, 7.200851025315503, 5.523359298318354, 4.960830730449355, 6.108785483867473, 4.068812826445038, 4.3599258320220615, 3.4839551252496195]\n"
     ]
    }
   ],
   "source": [
    "import random\n",
    "import numpy as np\n",
    "from sklearn.cluster import KMeans\n",
    "\n",
    "mean = 5\n",
    "stdev = 1\n",
    "\n",
    "s1 = np.random.normal(mean, stdev, 10).tolist()\n",
    "print(s1)"
   ]
  },
  {
   "cell_type": "markdown",
   "metadata": {},
   "source": [
    "a) Generate 10 more data points, this time coming from a normal distribution with mean 8 and variance 1."
   ]
  },
  {
   "cell_type": "code",
   "execution_count": 2,
   "metadata": {},
   "outputs": [
    {
     "name": "stdout",
     "output_type": "stream",
     "text": [
      "[8.08623957273794, 8.765639171106821, 8.058587117211337, 8.159295960861582, 7.496941177205167, 5.8118178104831, 9.501706033633328, 9.40376240876326, 9.296199090114687, 7.239679332447352]\n"
     ]
    }
   ],
   "source": [
    "s2 = np.random.normal(8,1,10).tolist() #mean stdec, how many data points\n",
    "print(s2)"
   ]
  },
  {
   "attachments": {},
   "cell_type": "markdown",
   "metadata": {},
   "source": [
    "b) Flip a fair coin 10 times. If the coin lands on H, then pick the last data point of `s1` and remove it from `s1`, if T then pick the last data point from `s2` and remove it from `s2`. Add these 10 points to a list called `data`."
   ]
  },
  {
   "cell_type": "code",
   "execution_count": 3,
   "metadata": {},
   "outputs": [
    {
     "name": "stdout",
     "output_type": "stream",
     "text": [
      "[7.239679332447352, 3.4839551252496195, 4.3599258320220615, 9.296199090114687, 9.40376240876326, 4.068812826445038, 9.501706033633328, 6.108785483867473, 4.960830730449355, 5.523359298318354]\n"
     ]
    }
   ],
   "source": [
    "data = []\n",
    "for i in range(10):\n",
    "    # flip coin\n",
    "    coin_output = random.choice([0, 1])\n",
    "    if coin_output == 0:\n",
    "        p1 = s1.pop()\n",
    "        data.append(p1)\n",
    "    else:\n",
    "        p2 = s2.pop()\n",
    "        data.append(p2)\n",
    "print(data)"
   ]
  },
  {
   "cell_type": "markdown",
   "metadata": {},
   "source": [
    "c) This `data` is a Gaussian Mixture Distribution with 2 mixture components. Over the next few questions we will walk through the GMM algorithm to see if we can uncover the parameters we used to generate this data. First, please list all these parameters of the GMM that created `data` and the values we know they have."
   ]
  },
  {
   "cell_type": "markdown",
   "metadata": {},
   "source": [
    "The prior pr of being species 1\n",
    "\n",
    "The prior pr of being species 2\n",
    "\n",
    "The mean and var of the weight species 1\n",
    "\n",
    "The mean and var of the weight species 2\n",
    "\n",
    "3 k parameters for k species"
   ]
  },
  {
   "cell_type": "markdown",
   "metadata": {},
   "source": [
    "d) Let's assume there are two mixture components (note: we could plot the data and make the observation that there are two clusters). The EM algorithm asks us to start with a random `mean_j`, `variance_j`, `P(S_j)` for each component j. One method we could use to find sensible values for these is to apply K means with k=2 here.\n",
    "\n",
    "1. the centroids would be the estimates of the `mean_j`\n",
    "2. the intra-cluster variance could be the estimate of `variance_j`\n",
    "3. the proportion of points in each cluster could be the estimate of `P(S_j)`\n",
    "\n",
    "Go through this process and list the parameter estimates it gives. Are they close or far from the true values?"
   ]
  },
  {
   "cell_type": "code",
   "execution_count": 81,
   "metadata": {},
   "outputs": [
    {
     "name": "stdout",
     "output_type": "stream",
     "text": [
      "[3.4839551252496195, 4.3599258320220615, 4.068812826445038, 6.108785483867473, 4.960830730449355, 5.523359298318354]\n",
      "[7.239679332447352, 9.296199090114687, 9.40376240876326, 9.501706033633328]\n",
      "P(S_1) = 0.6,  P(S_2) = 0.4\n",
      "mean_1 = 4.7509448827253165,  mean_2 = 8.860336716239656\n",
      "var_1 = 0.7846450470612045,  var_2 = 0.8807931122973188\n"
     ]
    },
    {
     "name": "stderr",
     "output_type": "stream",
     "text": [
      "/Users/rsudhir/anaconda3/lib/python3.11/site-packages/sklearn/cluster/_kmeans.py:1412: FutureWarning: The default value of `n_init` will change from 10 to 'auto' in 1.4. Set the value of `n_init` explicitly to suppress the warning\n",
      "  super()._check_params_vs_input(X, default_n_init=10)\n"
     ]
    }
   ],
   "source": [
    "kmeans = KMeans(2, init='k-means++').fit(X=np.array(data).reshape(-1, 1))\n",
    "\n",
    "s1 = [x[0] for x in filter(lambda x: x[1] == 0, zip(data, kmeans.labels_))]\n",
    "print(s1)\n",
    "s2 = [x[0] for x in filter(lambda x: x[1] == 1, zip(data, kmeans.labels_))]\n",
    "print(s2)\n",
    "\n",
    "prob_s = [ len(s1) / (len(s1) + len(s2)) , len(s2) / (len(s1) + len(s2)) ]\n",
    "mean = [ sum(s1)/len(s1) , sum(s2)/len(s2) ]\n",
    "var = [ sum(map(lambda x : (x - mean[0])**2, s1)) / len(s1) , sum(map(lambda x : (x - mean[1])**2, s2)) / len(s2) ]\n",
    "\n",
    "print(\"P(S_1) = \" + str(prob_s[0]) + \",  P(S_2) = \" + str(prob_s[1]))\n",
    "print(\"mean_1 = \" + str(mean[0]) + \",  mean_2 = \" + str(mean[1]))\n",
    "print(\"var_1 = \" + str(var[0]) + \",  var_2 = \" + str(var[1]))"
   ]
  },
  {
   "cell_type": "markdown",
   "metadata": {},
   "source": []
  },
  {
   "cell_type": "markdown",
   "metadata": {},
   "source": [
    "e) For each data point, compute `P(S_j | X_i)`. Comment on which cluster you think each point belongs to based on the estimated probabilities. How does that compare to the truth?"
   ]
  },
  {
   "cell_type": "code",
   "execution_count": 86,
   "metadata": {},
   "outputs": [
    {
     "name": "stdout",
     "output_type": "stream",
     "text": [
      "point =  7.239679332447352\n",
      "probability (pdf at that particular weight value) of observing that point if it came from cluster 0 =  0.0033240832291170125\n",
      "probability (pdf at that particular weight value) of observing that point if it came from cluster 1 =  0.08334205784367366\n",
      "point =  3.4839551252496195\n",
      "probability (pdf at that particular weight value) of observing that point if it came from cluster 0 =  0.13805668738140373\n",
      "probability (pdf at that particular weight value) of observing that point if it came from cluster 1 =  3.675577305108128e-09\n",
      "point =  4.3599258320220615\n",
      "probability (pdf at that particular weight value) of observing that point if it came from cluster 0 =  0.4490659737468942\n",
      "probability (pdf at that particular weight value) of observing that point if it came from cluster 1 =  9.704632429093766e-07\n",
      "point =  9.296199090114687\n",
      "probability (pdf at that particular weight value) of observing that point if it came from cluster 0 =  2.6281439344114735e-08\n",
      "probability (pdf at that particular weight value) of observing that point if it came from cluster 1 =  0.4007388343527842\n",
      "point =  9.40376240876326\n",
      "probability (pdf at that particular weight value) of observing that point if it came from cluster 0 =  1.1767782379817557e-08\n",
      "probability (pdf at that particular weight value) of observing that point if it came from cluster 1 =  0.37443616377917854\n",
      "point =  4.068812826445038\n",
      "probability (pdf at that particular weight value) of observing that point if it came from cluster 0 =  0.3484361108281914\n",
      "probability (pdf at that particular weight value) of observing that point if it came from cluster 1 =  1.697627737897951e-07\n",
      "point =  9.501706033633328\n",
      "probability (pdf at that particular weight value) of observing that point if it came from cluster 0 =  5.5699191134837705e-09\n",
      "probability (pdf at that particular weight value) of observing that point if it came from cluster 1 =  0.34745378682394\n",
      "point =  6.108785483867473\n",
      "probability (pdf at that particular weight value) of observing that point if it came from cluster 0 =  0.11374944995411834\n",
      "probability (pdf at that particular weight value) of observing that point if it came from cluster 1 =  0.003442596586858198\n",
      "point =  4.960830730449355\n",
      "probability (pdf at that particular weight value) of observing that point if it came from cluster 0 =  0.49056840965655557\n",
      "probability (pdf at that particular weight value) of observing that point if it came from cluster 1 =  2.510732087356915e-05\n",
      "point =  5.523359298318354\n",
      "probability (pdf at that particular weight value) of observing that point if it came from cluster 0 =  0.3131889130040377\n",
      "probability (pdf at that particular weight value) of observing that point if it came from cluster 1 =  0.00034610411196565183\n",
      "7.239679332447352\n",
      "Probability of coming from S_1 = 0.05644998789712061\n",
      "Probability of coming from S_2 = 0.9435500121028794\n",
      "\n",
      "3.4839551252496195\n",
      "Probability of coming from S_1 = 0.9999999822508792\n",
      "Probability of coming from S_2 = 1.7749120836213657e-08\n",
      "\n",
      "4.3599258320220615\n",
      "Probability of coming from S_1 = 0.9999985592883874\n",
      "Probability of coming from S_2 = 1.4407116125268069e-06\n",
      "\n",
      "9.296199090114687\n",
      "Probability of coming from S_1 = 9.837368320377066e-08\n",
      "Probability of coming from S_2 = 0.9999999016263168\n",
      "\n",
      "9.40376240876326\n",
      "Probability of coming from S_1 = 4.714200829170165e-08\n",
      "Probability of coming from S_2 = 0.9999999528579916\n",
      "\n",
      "4.068812826445038\n",
      "Probability of coming from S_1 = 0.9999996751911119\n",
      "Probability of coming from S_2 = 3.2480888819824367e-07\n",
      "\n",
      "9.501706033633328\n",
      "Probability of coming from S_1 = 2.4046013559661303e-08\n",
      "Probability of coming from S_2 = 0.9999999759539865\n",
      "\n",
      "6.108785483867473\n",
      "Probability of coming from S_1 = 0.9802225516286921\n",
      "Probability of coming from S_2 = 0.01977744837130789\n",
      "\n",
      "4.960830730449355\n",
      "Probability of coming from S_1 = 0.9999658811238205\n",
      "Probability of coming from S_2 = 3.411887617953763e-05\n",
      "\n",
      "5.523359298318354\n",
      "Probability of coming from S_1 = 0.9992638110746341\n",
      "Probability of coming from S_2 = 0.0007361889253658231\n",
      "\n"
     ]
    }
   ],
   "source": [
    "from scipy.stats import norm\n",
    "\n",
    "# TODO: might need to change var to std\n",
    "\n",
    "prob_s0_x = [] # P(S_0 | X_i)\n",
    "prob_s1_x = [] # P(S_1 | X_i)\n",
    "prob_x = [] # P(X_i)\n",
    "\n",
    "k = 2\n",
    "\n",
    "for p in data:\n",
    "    print(\"point = \", p)\n",
    "    pdf_i = []\n",
    "\n",
    "    for j in range(k):\n",
    "        # P(X_i | S_j)\n",
    "        pdf_i.append(norm.pdf(p, mean[j], var[j]))\n",
    "        print(\"probability (pdf at that particular weight value) of observing that point if it came from cluster \" + str(j) + \" = \", pdf_i[j])\n",
    "        # P(S_j) already computed\n",
    "        prob_s[j]\n",
    "\n",
    "    #pdf_i[0] is the p(p | s_0)\n",
    "\n",
    "    # P(X_i) = P(S_0)P(X_i | S_0) + P(S_1)P(X_i | S_1)\n",
    "    prob_x = prob_s[0] * pdf_i[0] + prob_s[1] * pdf_i[1]\n",
    "\n",
    "    # P(S_j | X_i) = P(X_i | S_j)P(S_j) / P(X_i)\n",
    "    prob_s0_x.append( pdf_i[0] * prob_s[0] / prob_x)\n",
    "    prob_s1_x.append( pdf_i[1] * prob_s[1] / prob_x)\n",
    "\n",
    "probs = zip(data, prob_s0_x, prob_s1_x)\n",
    "for p in probs:\n",
    "    print(p[0])\n",
    "    print(\"Probability of coming from S_1 = \" + str(p[1]))\n",
    "    print(\"Probability of coming from S_2 = \" + str(p[2]))\n",
    "    print()\n"
   ]
  },
  {
   "cell_type": "markdown",
   "metadata": {},
   "source": [
    "f) Having computed `P(S_j | X_i)`, update the estimates of `mean_j`, `var_j`, and `P(S_j)`. How different are these values from the original ones you got from K means? briefly comment."
   ]
  },
  {
   "cell_type": "code",
   "execution_count": 91,
   "metadata": {},
   "outputs": [
    {
     "name": "stdout",
     "output_type": "stream",
     "text": [
      "P(S_1) = 0.6,  P(S_2) = 0.4\n",
      "mean_1 = 4.7696761704713,  mean_2 = 8.869032137794662\n",
      "var_1 = 0.8314402262012581,  var_2 = 0.8912729496473333\n"
     ]
    }
   ],
   "source": [
    "prob_c = [sum(prob_s0_x)/ len(prob_s0_x), sum(prob_s1_x)/ len(prob_s1_x) ]\n",
    "mean = [sum([x[0] * x[1] for x in zip(prob_s0_x, data)]) / sum(prob_s0_x), sum([x[0] * x[1] for x in zip(prob_s1_x, data)]) / sum(prob_s1_x) ]\n",
    "var = [ sum([x[0] * (x[1]-mean[0])**2 for x in zip(prob_s0_x, data)]) / sum(prob_s0_x) , sum([x[0] * (x[1]-mean[1])**2 for x in zip(prob_s1_x, data)]) / sum(prob_s1_x)]\n",
    "\n",
    "print(\"P(S_1) = \" + str(prob_s[0]) + \",  P(S_2) = \" + str(prob_s[1]))\n",
    "print(\"mean_1 = \" + str(mean[0]) + \",  mean_2 = \" + str(mean[1]))\n",
    "print(\"var_1 = \" + str(var[0]) + \",  var_2 = \" + str(var[1]))"
   ]
  },
  {
   "cell_type": "markdown",
   "metadata": {},
   "source": []
  },
  {
   "cell_type": "markdown",
   "metadata": {},
   "source": [
    "g) Update `P(S_j | X_i)`. Comment on any differences or lack thereof you observe."
   ]
  },
  {
   "cell_type": "code",
   "execution_count": null,
   "metadata": {},
   "outputs": [],
   "source": []
  },
  {
   "cell_type": "markdown",
   "metadata": {},
   "source": []
  },
  {
   "cell_type": "markdown",
   "metadata": {},
   "source": [
    "h) Use `P(S_j | X_i)` to create a hard assignment - label each point as belonging to a specific cluster (0 or 1)"
   ]
  },
  {
   "cell_type": "code",
   "execution_count": null,
   "metadata": {},
   "outputs": [],
   "source": []
  }
 ],
 "metadata": {
  "kernelspec": {
   "display_name": "Python 3",
   "language": "python",
   "name": "python3"
  },
  "language_info": {
   "codemirror_mode": {
    "name": "ipython",
    "version": 3
   },
   "file_extension": ".py",
   "mimetype": "text/x-python",
   "name": "python",
   "nbconvert_exporter": "python",
   "pygments_lexer": "ipython3",
   "version": "3.11.4"
  },
  "orig_nbformat": 4,
  "vscode": {
   "interpreter": {
    "hash": "e7370f93d1d0cde622a1f8e1c04877d8463912d04d973331ad4851f04de6915a"
   }
  }
 },
 "nbformat": 4,
 "nbformat_minor": 2
}
